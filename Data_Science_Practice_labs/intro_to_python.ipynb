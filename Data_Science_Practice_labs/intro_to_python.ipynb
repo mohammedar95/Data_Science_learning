{
  "nbformat": 4,
  "nbformat_minor": 0,
  "metadata": {
    "colab": {
      "name": "Data_Science_intro_to_python",
      "provenance": [],
      "collapsed_sections": []
    },
    "kernelspec": {
      "name": "python3",
      "display_name": "Python 3"
    }
  },
  "cells": [
    {
      "cell_type": "markdown",
      "metadata": {
        "id": "69AWPcrCHm00"
      },
      "source": [
        "# **Python Fundamentals**\n",
        "**What is Python?**\n",
        "\n",
        "Per [wikipedia](https://en.wikipedia.org/wiki/Python_(programming_language))\n",
        "\n",
        "> Python is an interpreted, high-level, general-purpose programming language. Created by Guido van Rossum and first released in 1991, Python's design philosophy emphasizes code readability with its notable use of significant whitespace. Its language constructs and object-oriented approach aim to help programmers write clear, logical code for small and large-scale projects.\n",
        "\n",
        "**Why learn it?**\n",
        "\n",
        "Python has a wide range of use cases to include **data analytics**. As analytics and data science have become more prominent in the past decade, it has quickly become an industry standard. The tools we will be using in this class are all built off of Python.  \n",
        "\n",
        "**What do I need to know about python?**\n",
        "\n",
        "Python's syntax is **indentation-based**.  This means that white space matters when you are writing Python code.  As a result, Python code becomes formatted neatly and is easier to read.  Don't worry if this doesn't mean anything to you right now, we will get into this shortly.  "
      ]
    },
    {
      "cell_type": "markdown",
      "metadata": {
        "id": "DT6LqbsRsIyH"
      },
      "source": [
        "\n",
        "\n",
        "---\n",
        "\n"
      ]
    },
    {
      "cell_type": "markdown",
      "metadata": {
        "id": "WKzjGRD6LYTp"
      },
      "source": [
        "# **Variables and Data Types**\n",
        "\n",
        "Variables are containers for storing values.  \n",
        "You assign values to variables by using ="
      ]
    },
    {
      "cell_type": "code",
      "metadata": {
        "id": "xN0AHVVyLANx"
      },
      "source": [
        "x = 3"
      ],
      "execution_count": null,
      "outputs": []
    },
    {
      "cell_type": "code",
      "metadata": {
        "id": "1SCHluo9Mbo8",
        "colab": {
          "base_uri": "https://localhost:8080/",
          "height": 34
        },
        "outputId": "f90eb940-0399-41e4-b8be-7fee2d0ef9e4"
      },
      "source": [
        "print(x)"
      ],
      "execution_count": null,
      "outputs": [
        {
          "output_type": "stream",
          "text": [
            "3\n"
          ],
          "name": "stdout"
        }
      ]
    },
    {
      "cell_type": "markdown",
      "metadata": {
        "id": "lUMLH4QSMoPv"
      },
      "source": [
        "You can overwrite the value of an existing variable by assigning a new value to it in the same way."
      ]
    },
    {
      "cell_type": "code",
      "metadata": {
        "id": "MLKNv_d7MgVg"
      },
      "source": [
        "x = 5"
      ],
      "execution_count": null,
      "outputs": []
    },
    {
      "cell_type": "code",
      "metadata": {
        "id": "n8MlfcHkMipw",
        "colab": {
          "base_uri": "https://localhost:8080/",
          "height": 34
        },
        "outputId": "31925387-2b8f-4a10-bf69-ac2d136e1cbc"
      },
      "source": [
        "print(x)"
      ],
      "execution_count": null,
      "outputs": [
        {
          "output_type": "stream",
          "text": [
            "5\n"
          ],
          "name": "stdout"
        }
      ]
    },
    {
      "cell_type": "markdown",
      "metadata": {
        "id": "RGyUhat2N0AD"
      },
      "source": [
        "There are many different types of values that can be stored in variables.  \n",
        "Common data types include:\n",
        "* Integer\n",
        "* Float\n",
        "* String\n",
        "* Boolean \n",
        "* List\n",
        "* Dictionary \n",
        "\n"
      ]
    },
    {
      "cell_type": "markdown",
      "metadata": {
        "id": "msdXmKG-s_n9"
      },
      "source": [
        "## Integers and Floats\n",
        "`int` and `float` respectively are types of numeric values.\n",
        "\n"
      ]
    },
    {
      "cell_type": "code",
      "metadata": {
        "id": "nIxILeeEMjfx",
        "colab": {
          "base_uri": "https://localhost:8080/",
          "height": 51
        },
        "outputId": "319d6aec-4a06-4c15-941d-e2e5a5011ecd"
      },
      "source": [
        "# Integers and Floats\n",
        "radius = 2  # This is an integer\n",
        "pi = 3.14   # This is a float\n",
        "\n",
        "# You can mix integers and floats in calculations\n",
        "area_of_circle = pi * radius * radius\n",
        "print(area_of_circle)\n",
        "type(area_of_circle)"
      ],
      "execution_count": null,
      "outputs": [
        {
          "output_type": "stream",
          "text": [
            "12.56\n"
          ],
          "name": "stdout"
        },
        {
          "output_type": "execute_result",
          "data": {
            "text/plain": [
              "float"
            ]
          },
          "metadata": {
            "tags": []
          },
          "execution_count": 10
        }
      ]
    },
    {
      "cell_type": "markdown",
      "metadata": {
        "id": "wHpVYHhDtUW0"
      },
      "source": [
        "## Strings\n",
        "`str` are \"strings\" of text characters"
      ]
    },
    {
      "cell_type": "code",
      "metadata": {
        "id": "06VOn88HPFJ5"
      },
      "source": [
        "# String\n",
        "# A string of text wrapped in single, double, or triple quotes\n",
        "\n",
        "hello = 'Hello' # Single Quotes\n",
        "world = \"World\"  # Double Quotes\n",
        "# Triple Quotes for multi-line strings \n",
        "preamble = \"\"\"\n",
        "We the People of the United States, \n",
        "in Order to form a more perfect Union, \n",
        "establish Justice, ensure domestic Tranquility, \n",
        "provide for the common defence, \n",
        "promote the general Welfare, \n",
        "and secure the Blessings of Liberty to ourselves and our Posterity, \n",
        "do ordain and establish this Constitution for the United States of America.\n",
        "\"\"\""
      ],
      "execution_count": null,
      "outputs": []
    },
    {
      "cell_type": "markdown",
      "metadata": {
        "id": "jkSzpgVCALnX"
      },
      "source": [
        "## String concatenation\n",
        "Strings can be \"added\" i.e. concatenated together with other strings"
      ]
    },
    {
      "cell_type": "code",
      "metadata": {
        "id": "eVEC2TdGAcwI",
        "colab": {
          "base_uri": "https://localhost:8080/",
          "height": 34
        },
        "outputId": "05e41930-2acf-4651-c36d-62997783c422"
      },
      "source": [
        "greeting = hello + ' ' + world\n",
        "print(greeting)"
      ],
      "execution_count": null,
      "outputs": [
        {
          "output_type": "stream",
          "text": [
            "Hello World\n"
          ],
          "name": "stdout"
        }
      ]
    },
    {
      "cell_type": "markdown",
      "metadata": {
        "id": "guCMoCjtAm3w"
      },
      "source": [
        "However, strings cannot be concatenated to non-strings"
      ]
    },
    {
      "cell_type": "code",
      "metadata": {
        "id": "t14m4wYNSbnL",
        "colab": {
          "base_uri": "https://localhost:8080/",
          "height": 51
        },
        "outputId": "480fd359-fd56-4d49-dac1-4db9d11ef4c2"
      },
      "source": [
        "love_amount = 3000  # int\n",
        "i_love_python = \"I love Python \" # str\n",
        "# print(i_love_python + love_amount) # error\n",
        "\n",
        "love_amount = str(love_amount)\n",
        "print(type(a))\n",
        "print(type(love_amount))"
      ],
      "execution_count": null,
      "outputs": [
        {
          "output_type": "stream",
          "text": [
            "<class 'str'>\n",
            "<class 'str'>\n"
          ],
          "name": "stdout"
        }
      ]
    },
    {
      "cell_type": "markdown",
      "metadata": {
        "id": "uNIvfLx5Aw3P"
      },
      "source": [
        "But, we can cast (i.e. convert) variables from one type to another by wrapping the variable name in str() or int() or float() etc."
      ]
    },
    {
      "cell_type": "code",
      "metadata": {
        "id": "dPDLAExWTTv7",
        "colab": {
          "base_uri": "https://localhost:8080/",
          "height": 34
        },
        "outputId": "7c7c3aee-4216-4958-eadd-ccffc6674171"
      },
      "source": [
        "love_amount_str = str(love_amount)  # Casts from int to str\n",
        "print(i_love_python + love_amount_str)"
      ],
      "execution_count": null,
      "outputs": [
        {
          "output_type": "stream",
          "text": [
            "I love Python 3000\n"
          ],
          "name": "stdout"
        }
      ]
    },
    {
      "cell_type": "markdown",
      "metadata": {
        "id": "cNl32h7TBcgG"
      },
      "source": [
        "## Boolean\n",
        "`bool` is a true or false value"
      ]
    },
    {
      "cell_type": "code",
      "metadata": {
        "id": "Jjlp-ZBjQT4Q",
        "colab": {
          "base_uri": "https://localhost:8080/",
          "height": 68
        },
        "outputId": "80f92d8b-25b1-4807-b41d-b743c4448fa5"
      },
      "source": [
        "t = True\n",
        "f = False\n",
        "\n",
        "# We can combine boolean values (or expressions that evaluate to boolean values)\n",
        "# using logical operators (e.g. and, or, not)\n",
        "\n",
        "print(\"True and False: \", t and f)\n",
        "print(\"True or False: \", t or f)\n",
        "print(\"Not False: \", not f)"
      ],
      "execution_count": null,
      "outputs": [
        {
          "output_type": "stream",
          "text": [
            "True and False:  False\n",
            "True or False:  True\n",
            "Not False:  True\n"
          ],
          "name": "stdout"
        }
      ]
    },
    {
      "cell_type": "markdown",
      "metadata": {
        "id": "XowKlytpBsMJ"
      },
      "source": [
        "## Lists\n",
        "`list` are a data structure consisting of a list of ordered, comma-separated values contained within brackets.\n",
        "They can contain different data types."
      ]
    },
    {
      "cell_type": "code",
      "metadata": {
        "id": "qBEcX3CUD4yG"
      },
      "source": [
        "my_empty_list = []\n",
        "my_list = [1,2,3,4,5,6,7,8,9]\n",
        "my_str_list = [\"a\",\"b\",\"c\"]\n",
        "my_mixed_list = [\"a\", 1, 2.5, True]"
      ],
      "execution_count": null,
      "outputs": []
    },
    {
      "cell_type": "code",
      "metadata": {
        "id": "mmQRD5VlCwdF"
      },
      "source": [
        ""
      ],
      "execution_count": null,
      "outputs": []
    },
    {
      "cell_type": "markdown",
      "metadata": {
        "id": "uaJNOt3pB-Ug"
      },
      "source": [
        "Lists are helpful to organize data and process them in order.\n",
        "\n",
        "Data in a list can be accessed using the index (i.e. order number) of the desired element in the list. \n",
        "\n",
        "*   The first element in the list has an index of 0\n",
        "*   The last element in the list has an index of -1\n",
        "*   A \"slice\" of the list can be grabbed by specifying the first (inclusive) and last (exclusive) indices\n",
        "\n",
        "\n",
        "\n"
      ]
    },
    {
      "cell_type": "code",
      "metadata": {
        "id": "0ou165qfEoP6",
        "colab": {
          "base_uri": "https://localhost:8080/",
          "height": 34
        },
        "outputId": "7ca33204-440b-482d-ce5c-a239aad25344"
      },
      "source": [
        "my_list[0] # the first element of the list"
      ],
      "execution_count": null,
      "outputs": [
        {
          "output_type": "execute_result",
          "data": {
            "text/plain": [
              "1"
            ]
          },
          "metadata": {
            "tags": []
          },
          "execution_count": 17
        }
      ]
    },
    {
      "cell_type": "code",
      "metadata": {
        "id": "9ifMrGPoEvY8",
        "colab": {
          "base_uri": "https://localhost:8080/",
          "height": 35
        },
        "outputId": "a9b7fda4-3a83-4d08-c3ea-9de24048b09c"
      },
      "source": [
        "my_str_list[2] # the third element of the list"
      ],
      "execution_count": null,
      "outputs": [
        {
          "output_type": "execute_result",
          "data": {
            "application/vnd.google.colaboratory.intrinsic+json": {
              "type": "string"
            },
            "text/plain": [
              "'c'"
            ]
          },
          "metadata": {
            "tags": []
          },
          "execution_count": 18
        }
      ]
    },
    {
      "cell_type": "code",
      "metadata": {
        "id": "ZE3mhqmHE2ms",
        "colab": {
          "base_uri": "https://localhost:8080/",
          "height": 34
        },
        "outputId": "6471f423-e575-4e54-ba1e-ce7cf7235366"
      },
      "source": [
        "my_list[-1] # the last element of the list"
      ],
      "execution_count": null,
      "outputs": [
        {
          "output_type": "execute_result",
          "data": {
            "text/plain": [
              "9"
            ]
          },
          "metadata": {
            "tags": []
          },
          "execution_count": 19
        }
      ]
    },
    {
      "cell_type": "code",
      "metadata": {
        "id": "b6gVTFQHE-q2",
        "colab": {
          "base_uri": "https://localhost:8080/",
          "height": 34
        },
        "outputId": "e4b1cfea-3cec-4d65-90f2-653aeb9ef36c"
      },
      "source": [
        "my_list[0:3] # a list containing only the first three items of the list"
      ],
      "execution_count": null,
      "outputs": [
        {
          "output_type": "execute_result",
          "data": {
            "text/plain": [
              "[1, 2, 3]"
            ]
          },
          "metadata": {
            "tags": []
          },
          "execution_count": 20
        }
      ]
    },
    {
      "cell_type": "markdown",
      "metadata": {
        "id": "yZI1FEBZMQca"
      },
      "source": [
        "The length of a list can be calculated using `len()`"
      ]
    },
    {
      "cell_type": "code",
      "metadata": {
        "id": "kvTEPHrKCWK-",
        "colab": {
          "base_uri": "https://localhost:8080/",
          "height": 34
        },
        "outputId": "1e4d1b82-0ac9-45d6-84f9-517e3b60d6ed"
      },
      "source": [
        "len(my_list)"
      ],
      "execution_count": null,
      "outputs": [
        {
          "output_type": "execute_result",
          "data": {
            "text/plain": [
              "9"
            ]
          },
          "metadata": {
            "tags": []
          },
          "execution_count": 21
        }
      ]
    },
    {
      "cell_type": "markdown",
      "metadata": {
        "id": "mAq1fZ3mMX9P"
      },
      "source": [
        "New items can be added to a list by using `append()`\n",
        "\n",
        "Lists can also be added to each other to concatenate them."
      ]
    },
    {
      "cell_type": "code",
      "metadata": {
        "id": "xJAVVrPQMXLM",
        "colab": {
          "base_uri": "https://localhost:8080/",
          "height": 51
        },
        "outputId": "b5ce1159-f5e2-4e2a-e5cb-524124bc180a"
      },
      "source": [
        "my_list.append(10)\n",
        "print(my_list) # [1, 2, 3, 4, 5, 6, 7, 8, 9, 10]\n",
        "\n",
        "# We can also add (concatenate) lists\n",
        "a = [1,2,3]\n",
        "b = [4,5,6]\n",
        "c = a + b\n",
        "print(c) # [1, 2, 3, 4, 5, 6]"
      ],
      "execution_count": null,
      "outputs": [
        {
          "output_type": "stream",
          "text": [
            "[1, 2, 3, 4, 5, 6, 7, 8, 9, 10]\n",
            "[1, 2, 3, 4, 5, 6]\n"
          ],
          "name": "stdout"
        }
      ]
    },
    {
      "cell_type": "markdown",
      "metadata": {
        "id": "IK4NhkhRMwSR"
      },
      "source": [
        "## Dictionary\n",
        "\n",
        "A **dictionary** is a key/value map.  That is, **keys** can be used to store and look up **values**."
      ]
    },
    {
      "cell_type": "code",
      "metadata": {
        "id": "6vY1AqGiIudc"
      },
      "source": [
        "empty_dictionary = {}\n",
        "student_record = {\n",
        "    \"name\": \"Harry Potter\",\n",
        "    \"school\": \"Hogwarts\",\n",
        "    \"house\": \"Gryffindor\",\n",
        "    \"year\": 1,\n",
        "    \"age\": 11,\n",
        "    \"friends\": [\"Hermione Granger\", \"Ron Weasley\"],\n",
        "    \"speaks_parseltongue\": True\n",
        "}"
      ],
      "execution_count": null,
      "outputs": []
    },
    {
      "cell_type": "code",
      "metadata": {
        "id": "TL63jlSVMPVX",
        "colab": {
          "base_uri": "https://localhost:8080/",
          "height": 51
        },
        "outputId": "2bed1a11-d910-44d9-db49-3d984e84e3ae"
      },
      "source": [
        "# Values can be accessed using the key name\n",
        "# The key name is wrapped in square brackets or get()\n",
        "print(student_record[\"age\"]) # 11\n",
        "print(student_record.get(\"friends\")) # ['Hermione Granger', 'Ron Weasley']"
      ],
      "execution_count": null,
      "outputs": [
        {
          "output_type": "stream",
          "text": [
            "11\n",
            "['Hermione Granger', 'Ron Weasley']\n"
          ],
          "name": "stdout"
        }
      ]
    },
    {
      "cell_type": "code",
      "metadata": {
        "id": "9YDRBvNqNmrP",
        "colab": {
          "base_uri": "https://localhost:8080/",
          "height": 54
        },
        "outputId": "5a0f3731-012b-4ad5-f5e9-42229479695b"
      },
      "source": [
        "# New key/value pairs can always be added to the dictionary\n",
        "student_record[\"enemies\"] = [\"Draco Malfoy\"]\n",
        "print(student_record)"
      ],
      "execution_count": null,
      "outputs": [
        {
          "output_type": "stream",
          "text": [
            "{'name': 'Harry Potter', 'school': 'Hogwarts', 'house': 'Gryffindor', 'year': 1, 'age': 11, 'friends': ['Hermione Granger', 'Ron Weasley'], 'speaks_parseltongue': True, 'enemies': ['Draco Malfoy']}\n"
          ],
          "name": "stdout"
        }
      ]
    },
    {
      "cell_type": "code",
      "metadata": {
        "id": "7daZ1klPNshf",
        "colab": {
          "base_uri": "https://localhost:8080/",
          "height": 54
        },
        "outputId": "8ce17c72-ced4-4534-989c-cd733ab04f04"
      },
      "source": [
        "# Existing values can be updated with new values\n",
        "student_record[\"age\"] = 12\n",
        "print(student_record)"
      ],
      "execution_count": null,
      "outputs": [
        {
          "output_type": "stream",
          "text": [
            "{'name': 'Harry Potter', 'school': 'Hogwarts', 'house': 'Gryffindor', 'year': 1, 'age': 12, 'friends': ['Hermione Granger', 'Ron Weasley'], 'speaks_parseltongue': True, 'enemies': ['Draco Malfoy']}\n"
          ],
          "name": "stdout"
        }
      ]
    },
    {
      "cell_type": "markdown",
      "metadata": {
        "id": "pk5L7XyrM9-s"
      },
      "source": [
        "# **Python Operators**\n",
        "## Arithmetic Operators\n",
        "**\\+** : Addition\n",
        "\n",
        "**\\-** : Subtraction\n",
        "\n",
        "**\\*** : Multiplication\n",
        "\n",
        "**/** : Division\n",
        "\n",
        "**%** : Modulo\n",
        "\n",
        "****** : Exponent\n",
        "\n",
        "## Comparison Operators\n",
        "**==** : equal to\n",
        "\n",
        "**\\>=** : greater than or equal to\n",
        "\n",
        "**\\>**  : greater than\n",
        "\n",
        "**<=** : less than or equal to\n",
        "\n",
        "**<**  : less than\n",
        "\n",
        "**!=** : not equal to\n",
        "\n",
        "## Assignment Operators\n",
        "\n",
        "**\\=** : Assigns a value to a variable\n",
        "\n",
        "**+=** : Adds the value and assigns it to the variable\n",
        "\n",
        "## Logical Operators\n",
        "x **and** y : True if x and y are both True\n",
        "\n",
        "x **or** y : True if at least one of x or y are True\n",
        "\n",
        "**not** x : True if x is False, False if x is True"
      ]
    },
    {
      "cell_type": "code",
      "metadata": {
        "id": "LQJ16QwnP7lr",
        "colab": {
          "base_uri": "https://localhost:8080/",
          "height": 34
        },
        "outputId": "72ce48d9-7943-47c6-ec01-1770e4c681c4"
      },
      "source": [
        "5 == 5"
      ],
      "execution_count": null,
      "outputs": [
        {
          "output_type": "execute_result",
          "data": {
            "text/plain": [
              "True"
            ]
          },
          "metadata": {
            "tags": []
          },
          "execution_count": 27
        }
      ]
    },
    {
      "cell_type": "code",
      "metadata": {
        "id": "J8KWt58BQIUd",
        "colab": {
          "base_uri": "https://localhost:8080/",
          "height": 34
        },
        "outputId": "34ba2f70-a9fb-492f-84eb-2a7e989dc986"
      },
      "source": [
        "1 == 2"
      ],
      "execution_count": null,
      "outputs": [
        {
          "output_type": "execute_result",
          "data": {
            "text/plain": [
              "False"
            ]
          },
          "metadata": {
            "tags": []
          },
          "execution_count": 28
        }
      ]
    },
    {
      "cell_type": "code",
      "metadata": {
        "id": "PILau2BwQNQr",
        "colab": {
          "base_uri": "https://localhost:8080/",
          "height": 34
        },
        "outputId": "693f25fb-6635-46ba-f652-ae492560555b"
      },
      "source": [
        "\"dog\" != \"cat\""
      ],
      "execution_count": null,
      "outputs": [
        {
          "output_type": "execute_result",
          "data": {
            "text/plain": [
              "True"
            ]
          },
          "metadata": {
            "tags": []
          },
          "execution_count": 29
        }
      ]
    },
    {
      "cell_type": "code",
      "metadata": {
        "id": "qo98Wo3RQXUo",
        "colab": {
          "base_uri": "https://localhost:8080/",
          "height": 34
        },
        "outputId": "83da6000-4909-4fc4-84a4-9e3f1d921bee"
      },
      "source": [
        "1000 > 100"
      ],
      "execution_count": null,
      "outputs": [
        {
          "output_type": "execute_result",
          "data": {
            "text/plain": [
              "True"
            ]
          },
          "metadata": {
            "tags": []
          },
          "execution_count": 30
        }
      ]
    },
    {
      "cell_type": "code",
      "metadata": {
        "id": "HY5Gjrxu7If1",
        "colab": {
          "base_uri": "https://localhost:8080/",
          "height": 34
        },
        "outputId": "0a2b4750-80b0-4bb5-cf5d-27c1a4a319e4"
      },
      "source": [
        "7 % 4"
      ],
      "execution_count": null,
      "outputs": [
        {
          "output_type": "execute_result",
          "data": {
            "text/plain": [
              "3"
            ]
          },
          "metadata": {
            "tags": []
          },
          "execution_count": 31
        }
      ]
    },
    {
      "cell_type": "code",
      "metadata": {
        "id": "zRHLRQP57Koo",
        "colab": {
          "base_uri": "https://localhost:8080/",
          "height": 34
        },
        "outputId": "7192ad14-43bc-4cf6-c210-4b5e3fee8999"
      },
      "source": [
        "2 ** 4"
      ],
      "execution_count": null,
      "outputs": [
        {
          "output_type": "execute_result",
          "data": {
            "text/plain": [
              "16"
            ]
          },
          "metadata": {
            "tags": []
          },
          "execution_count": 32
        }
      ]
    },
    {
      "cell_type": "code",
      "metadata": {
        "id": "5c3iHAPeTxkC",
        "colab": {
          "base_uri": "https://localhost:8080/",
          "height": 34
        },
        "outputId": "b651fe67-ceb8-4cd4-9289-e64ff8936f0c"
      },
      "source": [
        "x = 5\n",
        "x += 2 # equivalent to x = x + 2\n",
        "print(x)"
      ],
      "execution_count": null,
      "outputs": [
        {
          "output_type": "stream",
          "text": [
            "7\n"
          ],
          "name": "stdout"
        }
      ]
    },
    {
      "cell_type": "code",
      "metadata": {
        "id": "N36xFSdnT12c",
        "colab": {
          "base_uri": "https://localhost:8080/",
          "height": 34
        },
        "outputId": "bb161b16-4fff-47de-886a-9da9f3b743a2"
      },
      "source": [
        "university = \"USF\"\n",
        "course = \"MSDS 596\"\n",
        "\n",
        "print(university == \"USF\" and course == \"MSDS 595\")"
      ],
      "execution_count": null,
      "outputs": [
        {
          "output_type": "stream",
          "text": [
            "False\n"
          ],
          "name": "stdout"
        }
      ]
    },
    {
      "cell_type": "markdown",
      "metadata": {
        "id": "NQmiPmuMQd6m"
      },
      "source": [
        "## **If statements**\n",
        "\n",
        "We can add if statements to our code, so that code only runs if a certain condition is met.\n",
        "\n",
        "*Note: This is the first time we're seeing the indentation referenced earlier.  All code to be executed when the `if` condition is met should be at the same level of indentation.*"
      ]
    },
    {
      "cell_type": "code",
      "metadata": {
        "id": "PCR300VoSYpe",
        "colab": {
          "base_uri": "https://localhost:8080/",
          "height": 54
        },
        "outputId": "2af20fd5-4ed4-438c-c170-4075a433d715"
      },
      "source": [
        "# Let's go back to our Harry Potter student record\n",
        "print(student_record)"
      ],
      "execution_count": null,
      "outputs": [
        {
          "output_type": "stream",
          "text": [
            "{'name': 'Harry Potter', 'school': 'Hogwarts', 'house': 'Gryffindor', 'year': 1, 'age': 12, 'friends': ['Hermione Granger', 'Ron Weasley'], 'speaks_parseltongue': True, 'enemies': ['Draco Malfoy']}\n"
          ],
          "name": "stdout"
        }
      ]
    },
    {
      "cell_type": "code",
      "metadata": {
        "id": "k0fFDab-Sh1s",
        "colab": {
          "base_uri": "https://localhost:8080/",
          "height": 34
        },
        "outputId": "670c55e1-9ed3-417d-908d-03ddd34bc56a"
      },
      "source": [
        "if student_record[\"school\"] == \"Hogwart\":\n",
        "    print(student_record[\"name\"] + \"'s headmaster is Albus Dumbledore\")\n",
        "    print(\"1\")\n",
        "    print(\"2\")\n",
        "print(\"3\")"
      ],
      "execution_count": null,
      "outputs": [
        {
          "output_type": "stream",
          "text": [
            "3\n"
          ],
          "name": "stdout"
        }
      ]
    },
    {
      "cell_type": "code",
      "metadata": {
        "id": "_FWQzEkyUgpg",
        "colab": {
          "base_uri": "https://localhost:8080/",
          "height": 34
        },
        "outputId": "42ed3119-7f9c-4ce4-d746-97b69271ca62"
      },
      "source": [
        "# Only 3rd years and above are allowed to go to Hogsmeade. \n",
        "# Let's check this and print whether Harry is allowed to go\n",
        "\n",
        "if student_record[\"year\"] >= 3:\n",
        "    print(student_record[\"name\"] + \" is permitted to go to Hogsmeade\")\n",
        "elif student_record[\"year\"] >= 0 and student_record[\"year\"] <= 2:\n",
        "    print(student_record[\"name\"] + \" is NOT permitted to go to Hogsmeade\")\n",
        "else:\n",
        "    print(\"Invalid student year\")"
      ],
      "execution_count": null,
      "outputs": [
        {
          "output_type": "stream",
          "text": [
            "Harry Potter is NOT permitted to go to Hogsmeade\n"
          ],
          "name": "stdout"
        }
      ]
    },
    {
      "cell_type": "markdown",
      "metadata": {
        "id": "N17Z3_HcWu9m"
      },
      "source": [
        "## **Loops**\n",
        "\n",
        "Loops allow you to iterate over a block of code.\n",
        "\n",
        "See the different types of loops and use cases below.\n",
        "\n",
        "## **`for` loops**\n",
        "\n",
        "Iterates one item at a time through a sequence of items, allowing you to execute code on each item.  This is useful for processing data records, where you want to act on every record in some pre-determined way.\n"
      ]
    },
    {
      "cell_type": "code",
      "metadata": {
        "id": "Wbz9z-y6amZA",
        "colab": {
          "base_uri": "https://localhost:8080/",
          "height": 85
        },
        "outputId": "4294a6b1-fc36-484c-ceae-20937c21aca1"
      },
      "source": [
        "# Let's look at an example of a simple for loop\n",
        "names = [\"Harry\", \"Ron\", \"Hermione\", \"Draco\"]\n",
        "for x in names:\n",
        "    print(x)"
      ],
      "execution_count": null,
      "outputs": [
        {
          "output_type": "stream",
          "text": [
            "Harry\n",
            "Ron\n",
            "Hermione\n",
            "Draco\n"
          ],
          "name": "stdout"
        }
      ]
    },
    {
      "cell_type": "code",
      "metadata": {
        "id": "cYh-Rh0dkORl",
        "colab": {
          "base_uri": "https://localhost:8080/",
          "height": 102
        },
        "outputId": "7b0f3052-2067-499b-8dc7-6bf898c5ebb3"
      },
      "source": [
        "# Here's another example, where we iterate through a list of items, look up its price, and update a running total\n",
        "\n",
        "# total_cost will hold the running total. It is initalized to $0.\n",
        "total_cost = 0\n",
        "# price_catalog is a dictionary mapping items to prices\n",
        "price_catalog = {\n",
        "    \"book\": 20,\n",
        "    \"notebook\": 5,\n",
        "    \"pencil\": 1,\n",
        "    \"eraser\": 0.25\n",
        "}\n",
        "# items_in_cart is a list of items we will be purchasing\n",
        "items_in_cart = [\"book\", \"notebook\", \"notebook\", \"pencil\"]\n",
        "\n",
        "for item in items_in_cart:\n",
        "    print(item + \" costs $\" + str(price_catalog[item]))\n",
        "    total_cost += price_catalog[item] # += means take the current value in the variable and add the new value to it\n",
        "\n",
        "print(\"The total cost is $\" + str(total_cost))"
      ],
      "execution_count": null,
      "outputs": [
        {
          "output_type": "stream",
          "text": [
            "book costs $20\n",
            "notebook costs $5\n",
            "notebook costs $5\n",
            "pencil costs $1\n",
            "The total cost is $31\n"
          ],
          "name": "stdout"
        }
      ]
    },
    {
      "cell_type": "markdown",
      "metadata": {
        "id": "Qjhu0avqocuK"
      },
      "source": [
        "## **`while` loops**\n",
        "\n",
        "Continue to loop through the code until the provided test expression is no longer true.  Be careful as you can have infinite loops if the test expression never evaluates to false."
      ]
    },
    {
      "cell_type": "code",
      "metadata": {
        "id": "-UOVDlLXlnQ4",
        "colab": {
          "base_uri": "https://localhost:8080/",
          "height": 68
        },
        "outputId": "297d4203-b9dc-45af-bf42-e83bcf4377e6"
      },
      "source": [
        "# Here is a while loop example\n",
        "\n",
        "num_loops = 3\n",
        "while num_loops > 0:\n",
        "    print(num_loops)\n",
        "    num_loops -= 1 # subtract 1 from num_loops every loop"
      ],
      "execution_count": null,
      "outputs": [
        {
          "output_type": "stream",
          "text": [
            "3\n",
            "2\n",
            "1\n"
          ],
          "name": "stdout"
        }
      ]
    },
    {
      "cell_type": "markdown",
      "metadata": {
        "id": "hhe4UvtDqWRi"
      },
      "source": [
        "## **Functions**\n",
        "\n",
        "A function is a block of code that performs a specific action. Functions generally take an input and return an output.  Using functions is good coding practice, as it allows you to break otherwise large, unwieldy blocks of code into smaller, modular pieces that are easier to read/understand and are also reusable."
      ]
    },
    {
      "cell_type": "code",
      "metadata": {
        "id": "yS24olqjqCtt",
        "colab": {
          "base_uri": "https://localhost:8080/",
          "height": 34
        },
        "outputId": "2a830f1f-bb2b-4331-cbed-b34ea0d6f693"
      },
      "source": [
        "# An example of a function\n",
        "# This statement defines the function.\n",
        "# The syntax is def my_function_name(some,input,variables):\n",
        "# A value can be returned using \"return\"\n",
        "def add_two_numbers(a, b):\n",
        "    return a + b\n",
        "\n",
        "# Now that the function is defined, we can call it.\n",
        "print(add_two_numbers(student_record[\"age\"], 5))"
      ],
      "execution_count": null,
      "outputs": [
        {
          "output_type": "stream",
          "text": [
            "17\n"
          ],
          "name": "stdout"
        }
      ]
    },
    {
      "cell_type": "code",
      "metadata": {
        "id": "aGCLSubtP1wS",
        "colab": {
          "base_uri": "https://localhost:8080/",
          "height": 34
        },
        "outputId": "652c3123-9086-4286-f62c-9c9e997854d6"
      },
      "source": [
        "# Another example of a function\n",
        "def get_average(list_of_numbers):\n",
        "    list_length = len(list_of_numbers)\n",
        "    total = 0\n",
        "    for number in list_of_numbers:\n",
        "        total += number\n",
        "    return total/list_length\n",
        "\n",
        "some_numbers = [1,2,3,4,5,6]\n",
        "print(get_average(some_numbers))"
      ],
      "execution_count": null,
      "outputs": [
        {
          "output_type": "stream",
          "text": [
            "3.5\n"
          ],
          "name": "stdout"
        }
      ]
    },
    {
      "cell_type": "markdown",
      "metadata": {
        "id": "9wQgQOHRY9rC"
      },
      "source": [
        "# Numpy\n",
        "\n",
        "Numpy is a Python **library** focused on mathematical/scientific computing.\n",
        "\n",
        "*What is a Python library?*\n",
        "\n",
        "In simple terms, a **library** can be thought of as a collection of pre-written code that is usually centered around some common theme/function.  We can leverage this code, which has usually been thoroughly reviewed/maintained, in our own code so that we don't have to reinvent the wheel to perform common tasks.\n",
        "\n",
        "*What does numpy do?*\n",
        "\n",
        "Numpy provides a framework for n-dimensional arrays and mathematical functions to operate on these arrays.  This is broadly applicable to many fields, but is also especially useful in data analysis.  In fact, the core data analysis library that we will be using in this class **Pandas** is built off of the Numpy library.\n",
        "\n",
        "Let's learn some of the basic features of Numpy."
      ]
    },
    {
      "cell_type": "markdown",
      "metadata": {
        "id": "xJhapaWqcjD0"
      },
      "source": [
        "Whenever we want to use code from a library, we need to **import** that library."
      ]
    },
    {
      "cell_type": "code",
      "metadata": {
        "id": "KUgN9DAyrxSc"
      },
      "source": [
        "import numpy as np"
      ],
      "execution_count": null,
      "outputs": []
    },
    {
      "cell_type": "markdown",
      "metadata": {
        "id": "8I18jEe4cwIv"
      },
      "source": [
        "The core data structure provided by numpy is the **array**.  An **array** is similar to the **list** that comes natively with Python, but there are a few key differences.\n",
        "\n",
        "*   More efficient calculations\n",
        "*   Comes with plethora of built-in mathematical operations on arrays\n",
        "*   Homogenous (all elements of the array have to be the same data type)\n",
        "\n"
      ]
    },
    {
      "cell_type": "code",
      "metadata": {
        "id": "JoC7Glv-cvEV"
      },
      "source": [
        "student_ages = np.array([23, 26, 24, 24, 22, 31, 30, 27, 21, 22, 25, 25, 25, 34])"
      ],
      "execution_count": null,
      "outputs": []
    },
    {
      "cell_type": "markdown",
      "metadata": {
        "id": "zB6dzk6igaZJ"
      },
      "source": [
        "Now that we have loaded the data into a Numpy array, we can easily obtain common descriptive statistics using built-in methods."
      ]
    },
    {
      "cell_type": "markdown",
      "metadata": {
        "id": "Af10wT7-g6_z"
      },
      "source": [
        "Average (Mean) age"
      ]
    },
    {
      "cell_type": "code",
      "metadata": {
        "id": "bTqH8b3pgZN-",
        "colab": {
          "base_uri": "https://localhost:8080/",
          "height": 34
        },
        "outputId": "46f70801-490e-4146-946c-782435ab7a34"
      },
      "source": [
        "np.mean(student_ages)"
      ],
      "execution_count": null,
      "outputs": [
        {
          "output_type": "execute_result",
          "data": {
            "text/plain": [
              "25.642857142857142"
            ]
          },
          "metadata": {
            "tags": []
          },
          "execution_count": 53
        }
      ]
    },
    {
      "cell_type": "markdown",
      "metadata": {
        "id": "cCAU2tDChDT6"
      },
      "source": [
        "Maximum age"
      ]
    },
    {
      "cell_type": "code",
      "metadata": {
        "id": "C5feR-AlhBuY",
        "colab": {
          "base_uri": "https://localhost:8080/",
          "height": 34
        },
        "outputId": "2b52b20c-b6fe-4afa-cf5e-1e08fbfa6d0e"
      },
      "source": [
        "np.max(student_ages)"
      ],
      "execution_count": null,
      "outputs": [
        {
          "output_type": "execute_result",
          "data": {
            "text/plain": [
              "34"
            ]
          },
          "metadata": {
            "tags": []
          },
          "execution_count": 54
        }
      ]
    },
    {
      "cell_type": "markdown",
      "metadata": {
        "id": "QIHWiPdmhPgN"
      },
      "source": [
        "Minimum age"
      ]
    },
    {
      "cell_type": "code",
      "metadata": {
        "id": "mQdrzgpChNA-",
        "colab": {
          "base_uri": "https://localhost:8080/",
          "height": 34
        },
        "outputId": "2614866f-9213-44f1-a0a6-87c6bc926b33"
      },
      "source": [
        "np.min(student_ages)"
      ],
      "execution_count": null,
      "outputs": [
        {
          "output_type": "execute_result",
          "data": {
            "text/plain": [
              "21"
            ]
          },
          "metadata": {
            "tags": []
          },
          "execution_count": 55
        }
      ]
    },
    {
      "cell_type": "markdown",
      "metadata": {
        "id": "HTDQ9qqGiBr1"
      },
      "source": [
        "Median age"
      ]
    },
    {
      "cell_type": "code",
      "metadata": {
        "id": "qne9cPz5hYk7",
        "colab": {
          "base_uri": "https://localhost:8080/",
          "height": 34
        },
        "outputId": "48229fb2-213f-4dfe-c66c-21926e560225"
      },
      "source": [
        "np.median(student_ages)"
      ],
      "execution_count": null,
      "outputs": [
        {
          "output_type": "execute_result",
          "data": {
            "text/plain": [
              "25.0"
            ]
          },
          "metadata": {
            "tags": []
          },
          "execution_count": 56
        }
      ]
    },
    {
      "cell_type": "markdown",
      "metadata": {
        "id": "pSN5mDSIEfbL"
      },
      "source": [
        "## Element-wise arithmetic on arrays\n",
        "\n"
      ]
    },
    {
      "cell_type": "code",
      "metadata": {
        "id": "o4MjcRSoEGe0",
        "colab": {
          "base_uri": "https://localhost:8080/",
          "height": 85
        },
        "outputId": "042d1f30-a10e-44c6-b3a5-a0f6d3ce4510"
      },
      "source": [
        "a = np.array([10,9,8])\n",
        "b = np.array([2,2,1])\n",
        "subtract = a - b\n",
        "add = a + b\n",
        "multiply = a * b\n",
        "divide = a / b\n",
        "print(subtract)\n",
        "print(add)\n",
        "print(multiply)\n",
        "print(divide)"
      ],
      "execution_count": null,
      "outputs": [
        {
          "output_type": "stream",
          "text": [
            "[8 7 7]\n",
            "[12 11  9]\n",
            "[20 18  8]\n",
            "[5.  4.5 8. ]\n"
          ],
          "name": "stdout"
        }
      ]
    },
    {
      "cell_type": "markdown",
      "metadata": {
        "id": "eY13lr7RDAtp"
      },
      "source": [
        "# 2-Dimensional Arrays\n",
        "\n",
        "One key feature of **Numpy** is its ability to work with n-dimensional arrays.  Let's work with a 2 dimensional array in the following example.  "
      ]
    },
    {
      "cell_type": "code",
      "metadata": {
        "id": "Bd1k2jPXEGF0"
      },
      "source": [
        "array_2d = np.array(\n",
        "    [\n",
        "     [1,2,3],\n",
        "     [4,5,6],\n",
        "     [7,8,9]\n",
        "    ]\n",
        ")"
      ],
      "execution_count": null,
      "outputs": []
    },
    {
      "cell_type": "code",
      "metadata": {
        "id": "Jo3Mn3vWEOkd",
        "colab": {
          "base_uri": "https://localhost:8080/",
          "height": 34
        },
        "outputId": "f0a1a8c4-feed-4c18-fb9c-42de6fcb37b9"
      },
      "source": [
        "np.sum(array_2d)  # This will sum all elements in the 2d array:  1+2+3+4+5+6+7+8+9"
      ],
      "execution_count": null,
      "outputs": [
        {
          "output_type": "execute_result",
          "data": {
            "text/plain": [
              "45"
            ]
          },
          "metadata": {
            "tags": []
          },
          "execution_count": 59
        }
      ]
    },
    {
      "cell_type": "markdown",
      "metadata": {
        "id": "Fx9btrUmEuCs"
      },
      "source": [
        "Use the `axis` argument to specify column or row specific calculations\n",
        "\n",
        "`axis = 0` is a column aggregation\n",
        "\n",
        "`axis = 1` is a row aggregation"
      ]
    },
    {
      "cell_type": "code",
      "metadata": {
        "id": "gZNVeyrSEmpW",
        "colab": {
          "base_uri": "https://localhost:8080/",
          "height": 34
        },
        "outputId": "7f786ecd-f32b-4a19-cd97-e46e199818f1"
      },
      "source": [
        "np.sum(array_2d, axis=0) # This will sum all elements for each column: [1+4+7, 2+5+8, 3+6+9]"
      ],
      "execution_count": null,
      "outputs": [
        {
          "output_type": "execute_result",
          "data": {
            "text/plain": [
              "array([12, 15, 18])"
            ]
          },
          "metadata": {
            "tags": []
          },
          "execution_count": 60
        }
      ]
    },
    {
      "cell_type": "code",
      "metadata": {
        "id": "x9tk17wEFLcR",
        "colab": {
          "base_uri": "https://localhost:8080/",
          "height": 34
        },
        "outputId": "68ead640-fe15-4dc3-f0a8-bd6a451ee121"
      },
      "source": [
        "np.sum(array_2d, axis=1) # This will sum all elements for each row: [1+2+3, 4+5+6, 7+8+9]"
      ],
      "execution_count": null,
      "outputs": [
        {
          "output_type": "execute_result",
          "data": {
            "text/plain": [
              "array([ 6, 15, 24])"
            ]
          },
          "metadata": {
            "tags": []
          },
          "execution_count": 61
        }
      ]
    },
    {
      "cell_type": "code",
      "metadata": {
        "id": "1cHIcZy1FXJv"
      },
      "source": [
        ""
      ],
      "execution_count": null,
      "outputs": []
    }
  ]
}