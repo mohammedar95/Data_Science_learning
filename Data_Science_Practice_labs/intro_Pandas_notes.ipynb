{
  "nbformat": 4,
  "nbformat_minor": 0,
  "metadata": {
    "colab": {
      "name": "intro_Pandas_notes",
      "provenance": [],
      "collapsed_sections": [
        "ZZFPu4pQ-YAt"
      ],
      "toc_visible": true
    },
    "kernelspec": {
      "name": "python3",
      "display_name": "Python 3"
    }
  },
  "cells": [
    {
      "cell_type": "markdown",
      "metadata": {
        "id": "iJZNkOav9WTo"
      },
      "source": [
        "# Exploratory Data Analysis with `pandas`\n",
        "\n",
        "`pandas` is a popular data analysis library written in Python.  It provides the tools that enable you to quickly and easily ingest, explore, manipulate, transform, and analyze data. \n",
        "\n",
        "`pandas` website: [https://pandas.pydata.org/](https://pandas.pydata.org/)\n",
        "\n",
        "Let's explore how we can use this powerful library by first loading in a data set.\n"
      ]
    },
    {
      "cell_type": "markdown",
      "metadata": {
        "id": "Hx_zGfKKNPn1"
      },
      "source": [
        "## Loading Data into `pandas`"
      ]
    },
    {
      "cell_type": "markdown",
      "metadata": {
        "id": "SvK5tOkTF6ou"
      },
      "source": [
        "**Step 1: Prepare data**\n",
        "\n",
        "Download the data set `cereal.csv` from Canvas Module 2.\n",
        "We will be using this data set for today's lecture.\n",
        "\n",
        "Upload this data to your Google Drive folder.\n"
      ]
    },
    {
      "cell_type": "markdown",
      "metadata": {
        "id": "_5bIFdN6COw7"
      },
      "source": [
        "**Step 2: Import pandas**"
      ]
    },
    {
      "cell_type": "code",
      "metadata": {
        "id": "YMUAKFSCCH1J"
      },
      "source": [
        "import pandas as pd"
      ],
      "execution_count": 1,
      "outputs": []
    },
    {
      "cell_type": "code",
      "metadata": {
        "id": "igdhD8eZEfE_"
      },
      "source": [
        "file_path =\"/content/drive/MyDrive/Colab Notebooks/MSDS-Data Visualization/Data/cereal.csv\"\n",
        "cereal = pd.read_csv(file_path)"
      ],
      "execution_count": 6,
      "outputs": []
    },
    {
      "cell_type": "code",
      "metadata": {
        "id": "nFLYRKh4Zy2k",
        "colab": {
          "base_uri": "https://localhost:8080/"
        },
        "outputId": "531fe620-c2fa-45ad-e4cb-b46a82a1fc71"
      },
      "source": [
        "type(cereal)"
      ],
      "execution_count": 7,
      "outputs": [
        {
          "output_type": "execute_result",
          "data": {
            "text/plain": [
              "pandas.core.frame.DataFrame"
            ]
          },
          "metadata": {
            "tags": []
          },
          "execution_count": 7
        }
      ]
    },
    {
      "cell_type": "code",
      "metadata": {
        "id": "UIbSkcOvML8S"
      },
      "source": [
        "from google.colab import drive\n",
        "drive.mount('/content/drive')"
      ],
      "execution_count": null,
      "outputs": []
    },
    {
      "cell_type": "code",
      "metadata": {
        "id": "H7m4bUuBZ3ux",
        "colab": {
          "base_uri": "https://localhost:8080/",
          "height": 352
        },
        "outputId": "547ae9a1-e19f-431a-f0d2-129794493eea"
      },
      "source": [
        "# First n rows of cereal\n",
        "cereal.head(n=10)"
      ],
      "execution_count": 8,
      "outputs": [
        {
          "output_type": "execute_result",
          "data": {
            "text/html": [
              "<div>\n",
              "<style scoped>\n",
              "    .dataframe tbody tr th:only-of-type {\n",
              "        vertical-align: middle;\n",
              "    }\n",
              "\n",
              "    .dataframe tbody tr th {\n",
              "        vertical-align: top;\n",
              "    }\n",
              "\n",
              "    .dataframe thead th {\n",
              "        text-align: right;\n",
              "    }\n",
              "</style>\n",
              "<table border=\"1\" class=\"dataframe\">\n",
              "  <thead>\n",
              "    <tr style=\"text-align: right;\">\n",
              "      <th></th>\n",
              "      <th>name</th>\n",
              "      <th>mfr</th>\n",
              "      <th>type</th>\n",
              "      <th>calories</th>\n",
              "      <th>protein</th>\n",
              "      <th>fat</th>\n",
              "      <th>sodium</th>\n",
              "      <th>fiber</th>\n",
              "      <th>carbo</th>\n",
              "      <th>sugars</th>\n",
              "      <th>potass</th>\n",
              "      <th>vitamins</th>\n",
              "      <th>shelf</th>\n",
              "      <th>weight</th>\n",
              "      <th>cups</th>\n",
              "      <th>rating</th>\n",
              "    </tr>\n",
              "  </thead>\n",
              "  <tbody>\n",
              "    <tr>\n",
              "      <th>0</th>\n",
              "      <td>100% Bran</td>\n",
              "      <td>N</td>\n",
              "      <td>C</td>\n",
              "      <td>70</td>\n",
              "      <td>4</td>\n",
              "      <td>1</td>\n",
              "      <td>130</td>\n",
              "      <td>10.0</td>\n",
              "      <td>5.0</td>\n",
              "      <td>6</td>\n",
              "      <td>280</td>\n",
              "      <td>25</td>\n",
              "      <td>3</td>\n",
              "      <td>1.00</td>\n",
              "      <td>0.33</td>\n",
              "      <td>68.402973</td>\n",
              "    </tr>\n",
              "    <tr>\n",
              "      <th>1</th>\n",
              "      <td>100% Natural Bran</td>\n",
              "      <td>Q</td>\n",
              "      <td>C</td>\n",
              "      <td>120</td>\n",
              "      <td>3</td>\n",
              "      <td>5</td>\n",
              "      <td>15</td>\n",
              "      <td>2.0</td>\n",
              "      <td>8.0</td>\n",
              "      <td>8</td>\n",
              "      <td>135</td>\n",
              "      <td>0</td>\n",
              "      <td>3</td>\n",
              "      <td>1.00</td>\n",
              "      <td>1.00</td>\n",
              "      <td>33.983679</td>\n",
              "    </tr>\n",
              "    <tr>\n",
              "      <th>2</th>\n",
              "      <td>All-Bran</td>\n",
              "      <td>K</td>\n",
              "      <td>C</td>\n",
              "      <td>70</td>\n",
              "      <td>4</td>\n",
              "      <td>1</td>\n",
              "      <td>260</td>\n",
              "      <td>9.0</td>\n",
              "      <td>7.0</td>\n",
              "      <td>5</td>\n",
              "      <td>320</td>\n",
              "      <td>25</td>\n",
              "      <td>3</td>\n",
              "      <td>1.00</td>\n",
              "      <td>0.33</td>\n",
              "      <td>59.425505</td>\n",
              "    </tr>\n",
              "    <tr>\n",
              "      <th>3</th>\n",
              "      <td>All-Bran with Extra Fiber</td>\n",
              "      <td>K</td>\n",
              "      <td>C</td>\n",
              "      <td>50</td>\n",
              "      <td>4</td>\n",
              "      <td>0</td>\n",
              "      <td>140</td>\n",
              "      <td>14.0</td>\n",
              "      <td>8.0</td>\n",
              "      <td>0</td>\n",
              "      <td>330</td>\n",
              "      <td>25</td>\n",
              "      <td>3</td>\n",
              "      <td>1.00</td>\n",
              "      <td>0.50</td>\n",
              "      <td>93.704912</td>\n",
              "    </tr>\n",
              "    <tr>\n",
              "      <th>4</th>\n",
              "      <td>Almond Delight</td>\n",
              "      <td>R</td>\n",
              "      <td>C</td>\n",
              "      <td>110</td>\n",
              "      <td>2</td>\n",
              "      <td>2</td>\n",
              "      <td>200</td>\n",
              "      <td>1.0</td>\n",
              "      <td>14.0</td>\n",
              "      <td>8</td>\n",
              "      <td>-1</td>\n",
              "      <td>25</td>\n",
              "      <td>3</td>\n",
              "      <td>1.00</td>\n",
              "      <td>0.75</td>\n",
              "      <td>34.384843</td>\n",
              "    </tr>\n",
              "    <tr>\n",
              "      <th>5</th>\n",
              "      <td>Apple Cinnamon Cheerios</td>\n",
              "      <td>G</td>\n",
              "      <td>C</td>\n",
              "      <td>110</td>\n",
              "      <td>2</td>\n",
              "      <td>2</td>\n",
              "      <td>180</td>\n",
              "      <td>1.5</td>\n",
              "      <td>10.5</td>\n",
              "      <td>10</td>\n",
              "      <td>70</td>\n",
              "      <td>25</td>\n",
              "      <td>1</td>\n",
              "      <td>1.00</td>\n",
              "      <td>0.75</td>\n",
              "      <td>29.509541</td>\n",
              "    </tr>\n",
              "    <tr>\n",
              "      <th>6</th>\n",
              "      <td>Apple Jacks</td>\n",
              "      <td>K</td>\n",
              "      <td>C</td>\n",
              "      <td>110</td>\n",
              "      <td>2</td>\n",
              "      <td>0</td>\n",
              "      <td>125</td>\n",
              "      <td>1.0</td>\n",
              "      <td>11.0</td>\n",
              "      <td>14</td>\n",
              "      <td>30</td>\n",
              "      <td>25</td>\n",
              "      <td>2</td>\n",
              "      <td>1.00</td>\n",
              "      <td>1.00</td>\n",
              "      <td>33.174094</td>\n",
              "    </tr>\n",
              "    <tr>\n",
              "      <th>7</th>\n",
              "      <td>Basic 4</td>\n",
              "      <td>G</td>\n",
              "      <td>C</td>\n",
              "      <td>130</td>\n",
              "      <td>3</td>\n",
              "      <td>2</td>\n",
              "      <td>210</td>\n",
              "      <td>2.0</td>\n",
              "      <td>18.0</td>\n",
              "      <td>8</td>\n",
              "      <td>100</td>\n",
              "      <td>25</td>\n",
              "      <td>3</td>\n",
              "      <td>1.33</td>\n",
              "      <td>0.75</td>\n",
              "      <td>37.038562</td>\n",
              "    </tr>\n",
              "    <tr>\n",
              "      <th>8</th>\n",
              "      <td>Bran Chex</td>\n",
              "      <td>R</td>\n",
              "      <td>C</td>\n",
              "      <td>90</td>\n",
              "      <td>2</td>\n",
              "      <td>1</td>\n",
              "      <td>200</td>\n",
              "      <td>4.0</td>\n",
              "      <td>15.0</td>\n",
              "      <td>6</td>\n",
              "      <td>125</td>\n",
              "      <td>25</td>\n",
              "      <td>1</td>\n",
              "      <td>1.00</td>\n",
              "      <td>0.67</td>\n",
              "      <td>49.120253</td>\n",
              "    </tr>\n",
              "    <tr>\n",
              "      <th>9</th>\n",
              "      <td>Bran Flakes</td>\n",
              "      <td>P</td>\n",
              "      <td>C</td>\n",
              "      <td>90</td>\n",
              "      <td>3</td>\n",
              "      <td>0</td>\n",
              "      <td>210</td>\n",
              "      <td>5.0</td>\n",
              "      <td>13.0</td>\n",
              "      <td>5</td>\n",
              "      <td>190</td>\n",
              "      <td>25</td>\n",
              "      <td>3</td>\n",
              "      <td>1.00</td>\n",
              "      <td>0.67</td>\n",
              "      <td>53.313813</td>\n",
              "    </tr>\n",
              "  </tbody>\n",
              "</table>\n",
              "</div>"
            ],
            "text/plain": [
              "                        name mfr type  calories  ...  shelf  weight  cups     rating\n",
              "0                  100% Bran   N    C        70  ...      3    1.00  0.33  68.402973\n",
              "1          100% Natural Bran   Q    C       120  ...      3    1.00  1.00  33.983679\n",
              "2                   All-Bran   K    C        70  ...      3    1.00  0.33  59.425505\n",
              "3  All-Bran with Extra Fiber   K    C        50  ...      3    1.00  0.50  93.704912\n",
              "4             Almond Delight   R    C       110  ...      3    1.00  0.75  34.384843\n",
              "5    Apple Cinnamon Cheerios   G    C       110  ...      1    1.00  0.75  29.509541\n",
              "6                Apple Jacks   K    C       110  ...      2    1.00  1.00  33.174094\n",
              "7                    Basic 4   G    C       130  ...      3    1.33  0.75  37.038562\n",
              "8                  Bran Chex   R    C        90  ...      1    1.00  0.67  49.120253\n",
              "9                Bran Flakes   P    C        90  ...      3    1.00  0.67  53.313813\n",
              "\n",
              "[10 rows x 16 columns]"
            ]
          },
          "metadata": {
            "tags": []
          },
          "execution_count": 8
        }
      ]
    },
    {
      "cell_type": "code",
      "metadata": {
        "id": "dKr3AxJPaC1w",
        "colab": {
          "base_uri": "https://localhost:8080/"
        },
        "outputId": "bc4e0e08-58cf-4c60-961a-ce9e2e2dc92e"
      },
      "source": [
        "# Returns (row_count, column count) of dataframe\n",
        "cereal.shape"
      ],
      "execution_count": 9,
      "outputs": [
        {
          "output_type": "execute_result",
          "data": {
            "text/plain": [
              "(77, 16)"
            ]
          },
          "metadata": {
            "tags": []
          },
          "execution_count": 9
        }
      ]
    },
    {
      "cell_type": "markdown",
      "metadata": {
        "id": "Y9E60c7Zd15-"
      },
      "source": [
        "## `pandas` Series and DataFrames\n",
        "\n",
        "A series is like a single column of data.  It behaves a lot like a `numpy` array because that is exactly what it is on the backend.\n",
        "\n",
        "A dataframe consists of multiple series.  You can think of it like a spreadsheet with rows and columns."
      ]
    },
    {
      "cell_type": "code",
      "metadata": {
        "id": "TextDJ54j2JO",
        "colab": {
          "base_uri": "https://localhost:8080/"
        },
        "outputId": "f3aea1c3-ff8b-432e-9a32-a9ffb22cc37f"
      },
      "source": [
        "cereal.info()"
      ],
      "execution_count": 10,
      "outputs": [
        {
          "output_type": "stream",
          "text": [
            "<class 'pandas.core.frame.DataFrame'>\n",
            "RangeIndex: 77 entries, 0 to 76\n",
            "Data columns (total 16 columns):\n",
            " #   Column    Non-Null Count  Dtype  \n",
            "---  ------    --------------  -----  \n",
            " 0   name      77 non-null     object \n",
            " 1   mfr       77 non-null     object \n",
            " 2   type      77 non-null     object \n",
            " 3   calories  77 non-null     int64  \n",
            " 4   protein   77 non-null     int64  \n",
            " 5   fat       77 non-null     int64  \n",
            " 6   sodium    77 non-null     int64  \n",
            " 7   fiber     77 non-null     float64\n",
            " 8   carbo     77 non-null     float64\n",
            " 9   sugars    77 non-null     int64  \n",
            " 10  potass    77 non-null     int64  \n",
            " 11  vitamins  77 non-null     int64  \n",
            " 12  shelf     77 non-null     int64  \n",
            " 13  weight    77 non-null     float64\n",
            " 14  cups      77 non-null     float64\n",
            " 15  rating    77 non-null     float64\n",
            "dtypes: float64(5), int64(8), object(3)\n",
            "memory usage: 9.8+ KB\n"
          ],
          "name": "stdout"
        }
      ]
    },
    {
      "cell_type": "code",
      "metadata": {
        "id": "2vTXbYtSfhRn",
        "colab": {
          "base_uri": "https://localhost:8080/"
        },
        "outputId": "2041a858-7729-4b86-a4dc-3add7ba74e78"
      },
      "source": [
        "# One column from the dataframe is a series\n",
        "manufacturer = cereal['mfr']\n",
        "type(manufacturer)"
      ],
      "execution_count": 11,
      "outputs": [
        {
          "output_type": "execute_result",
          "data": {
            "text/plain": [
              "pandas.core.series.Series"
            ]
          },
          "metadata": {
            "tags": []
          },
          "execution_count": 11
        }
      ]
    },
    {
      "cell_type": "code",
      "metadata": {
        "id": "ivyHFyQQgrWW",
        "colab": {
          "base_uri": "https://localhost:8080/"
        },
        "outputId": "22acb533-ae5c-4640-8243-95bdbb2b7b75"
      },
      "source": [
        "manufacturer"
      ],
      "execution_count": 12,
      "outputs": [
        {
          "output_type": "execute_result",
          "data": {
            "text/plain": [
              "0     N\n",
              "1     Q\n",
              "2     K\n",
              "3     K\n",
              "4     R\n",
              "     ..\n",
              "72    G\n",
              "73    G\n",
              "74    R\n",
              "75    G\n",
              "76    G\n",
              "Name: mfr, Length: 77, dtype: object"
            ]
          },
          "metadata": {
            "tags": []
          },
          "execution_count": 12
        }
      ]
    },
    {
      "cell_type": "code",
      "metadata": {
        "id": "DOpyRtzrhqmE",
        "colab": {
          "base_uri": "https://localhost:8080/"
        },
        "outputId": "99eec2fc-e425-4af6-ea57-38d758a5b571"
      },
      "source": [
        "manufacturer[0:3]"
      ],
      "execution_count": 13,
      "outputs": [
        {
          "output_type": "execute_result",
          "data": {
            "text/plain": [
              "0    N\n",
              "1    Q\n",
              "2    K\n",
              "Name: mfr, dtype: object"
            ]
          },
          "metadata": {
            "tags": []
          },
          "execution_count": 13
        }
      ]
    },
    {
      "cell_type": "code",
      "metadata": {
        "id": "u6bizelMg5qI"
      },
      "source": [
        "# Setting the index of the manufacturer Series\n",
        "manufacturer.index = cereal['name']"
      ],
      "execution_count": null,
      "outputs": []
    },
    {
      "cell_type": "code",
      "metadata": {
        "id": "lR0xxzL7g91Y",
        "colab": {
          "base_uri": "https://localhost:8080/"
        },
        "outputId": "676b455f-157f-481c-a18f-a568be64982f"
      },
      "source": [
        "manufacturer"
      ],
      "execution_count": 14,
      "outputs": [
        {
          "output_type": "execute_result",
          "data": {
            "text/plain": [
              "0     N\n",
              "1     Q\n",
              "2     K\n",
              "3     K\n",
              "4     R\n",
              "     ..\n",
              "72    G\n",
              "73    G\n",
              "74    R\n",
              "75    G\n",
              "76    G\n",
              "Name: mfr, Length: 77, dtype: object"
            ]
          },
          "metadata": {
            "tags": []
          },
          "execution_count": 14
        }
      ]
    },
    {
      "cell_type": "code",
      "metadata": {
        "id": "luKx-KmOlxnB"
      },
      "source": [
        "manufacturer['Trix']"
      ],
      "execution_count": null,
      "outputs": []
    },
    {
      "cell_type": "code",
      "metadata": {
        "id": "iobWQj-xf14M",
        "colab": {
          "base_uri": "https://localhost:8080/"
        },
        "outputId": "81700219-7682-4e47-a10a-027e22ad9501"
      },
      "source": [
        "manufacturer.describe()"
      ],
      "execution_count": 15,
      "outputs": [
        {
          "output_type": "execute_result",
          "data": {
            "text/plain": [
              "count     77\n",
              "unique     7\n",
              "top        K\n",
              "freq      23\n",
              "Name: mfr, dtype: object"
            ]
          },
          "metadata": {
            "tags": []
          },
          "execution_count": 15
        }
      ]
    },
    {
      "cell_type": "code",
      "metadata": {
        "id": "oSk2QHRsf0Rd",
        "colab": {
          "base_uri": "https://localhost:8080/"
        },
        "outputId": "82366c76-49d3-47c4-d7eb-ecc26a8ce967"
      },
      "source": [
        "# Produces a frequency distribution of the values in the Series\n",
        "manufacturer.value_counts()"
      ],
      "execution_count": 16,
      "outputs": [
        {
          "output_type": "execute_result",
          "data": {
            "text/plain": [
              "K    23\n",
              "G    22\n",
              "P     9\n",
              "Q     8\n",
              "R     8\n",
              "N     6\n",
              "A     1\n",
              "Name: mfr, dtype: int64"
            ]
          },
          "metadata": {
            "tags": []
          },
          "execution_count": 16
        }
      ]
    },
    {
      "cell_type": "code",
      "metadata": {
        "id": "l1WGvtg6fa_C"
      },
      "source": [
        "# Load in the data as a dataframe again, this time specifying the index column at load time\n",
        "cereal = pd.read_csv(file_path, index_col='name')"
      ],
      "execution_count": 19,
      "outputs": []
    },
    {
      "cell_type": "markdown",
      "metadata": {
        "id": "FSLOg0bD03-S"
      },
      "source": [
        "## Data Cleaning\n",
        "\n",
        "A common problem with data is that it doesn't come to you in a perfectly usable form.  Oftentimes you need to clean it through various techniques such as those listed below:\n",
        "- dropping unnecessary columns\n",
        "- removing or treating duplicates\n",
        "- replacing values\n",
        "- creating new columns\n",
        "- handling null or missing values\n",
        "\n",
        "`pandas` enables you to perform these types of cleaning relatively easily\n"
      ]
    },
    {
      "cell_type": "markdown",
      "metadata": {
        "id": "UBNIceyC3X4h"
      },
      "source": [
        "### Dropping Unnecessary Columns"
      ]
    },
    {
      "cell_type": "code",
      "metadata": {
        "id": "72v5MuCC58zJ",
        "colab": {
          "base_uri": "https://localhost:8080/"
        },
        "outputId": "66da7c7c-5108-440b-df61-20d2d2f25a6f"
      },
      "source": [
        "# Dropping unnecessary columns\n",
        "# Let's say we don't need the 'shelf' column\n",
        "\n",
        "# One way is to create a new dataframe using only the columns we want to keep\n",
        "cereal.columns # produces a list of columns"
      ],
      "execution_count": 20,
      "outputs": [
        {
          "output_type": "execute_result",
          "data": {
            "text/plain": [
              "Index(['mfr', 'type', 'calories', 'protein', 'fat', 'sodium', 'fiber', 'carbo',\n",
              "       'sugars', 'potass', 'vitamins', 'shelf', 'weight', 'cups', 'rating'],\n",
              "      dtype='object')"
            ]
          },
          "metadata": {
            "tags": []
          },
          "execution_count": 20
        }
      ]
    },
    {
      "cell_type": "code",
      "metadata": {
        "id": "0yLlJ00_b_2S"
      },
      "source": [
        "# Remove shelf\n",
        "columns_to_keep = ['mfr', 'type', 'calories', 'protein', 'fat', 'sodium', 'fiber', 'carbo',\n",
        "       'sugars', 'potass', 'vitamins', 'weight', 'cups', 'rating']\n",
        "\n",
        "# Explicitly copying is good practice here\n",
        "cereal = cereal[columns_to_keep].copy()"
      ],
      "execution_count": 21,
      "outputs": []
    },
    {
      "cell_type": "code",
      "metadata": {
        "id": "_F_F0xdD3N8Y",
        "colab": {
          "base_uri": "https://localhost:8080/"
        },
        "outputId": "70d35210-84ca-4111-8594-437a205f03af"
      },
      "source": [
        "# No more shelf\n",
        "cereal.columns"
      ],
      "execution_count": 22,
      "outputs": [
        {
          "output_type": "execute_result",
          "data": {
            "text/plain": [
              "Index(['mfr', 'type', 'calories', 'protein', 'fat', 'sodium', 'fiber', 'carbo',\n",
              "       'sugars', 'potass', 'vitamins', 'weight', 'cups', 'rating'],\n",
              "      dtype='object')"
            ]
          },
          "metadata": {
            "tags": []
          },
          "execution_count": 22
        }
      ]
    },
    {
      "cell_type": "markdown",
      "metadata": {
        "id": "PX53nbHa3a_m"
      },
      "source": [
        "### Removing Duplicates"
      ]
    },
    {
      "cell_type": "code",
      "metadata": {
        "id": "uuXwvprc3gSL",
        "colab": {
          "base_uri": "https://localhost:8080/"
        },
        "outputId": "c2929a45-f841-431b-f5ee-3cfaa2153336"
      },
      "source": [
        "# The cereals dataset does not have any duplicates, so let's\n",
        "# concatenate the dataset to itself to demonstrate how we can remove\n",
        "# duplicates\n",
        "\n",
        "cereal_duplicated = pd.concat([cereal,cereal],axis=0)\n",
        "print(cereal_duplicated.shape)"
      ],
      "execution_count": 23,
      "outputs": [
        {
          "output_type": "stream",
          "text": [
            "(154, 14)\n"
          ],
          "name": "stdout"
        }
      ]
    },
    {
      "cell_type": "code",
      "metadata": {
        "id": "pveDTy8K49of"
      },
      "source": [
        "cereal_deduplicated = cereal_duplicated.drop_duplicates()"
      ],
      "execution_count": 24,
      "outputs": []
    },
    {
      "cell_type": "code",
      "metadata": {
        "id": "QyqkwzalYI6B",
        "colab": {
          "base_uri": "https://localhost:8080/"
        },
        "outputId": "953793ee-5abe-4246-85cc-a8f5e1dd26d6"
      },
      "source": [
        "cereal_deduplicated.shape"
      ],
      "execution_count": 25,
      "outputs": [
        {
          "output_type": "execute_result",
          "data": {
            "text/plain": [
              "(77, 14)"
            ]
          },
          "metadata": {
            "tags": []
          },
          "execution_count": 25
        }
      ]
    },
    {
      "cell_type": "markdown",
      "metadata": {
        "id": "sCxZyIGA5hCB"
      },
      "source": [
        "### Replacing Values\n"
      ]
    },
    {
      "cell_type": "code",
      "metadata": {
        "id": "PmGVHtNs6L5s",
        "colab": {
          "base_uri": "https://localhost:8080/"
        },
        "outputId": "9ecd40c9-5b68-4b49-f6e3-37e3c6d9801a"
      },
      "source": [
        "# Let's update the manufacturer names to their full names\n",
        "# Create a dictionary where the keys represent the values in the dataframe you want to replace\n",
        "# The values are the new values you want to use\n",
        "replacements = {\n",
        "    \"A\": \"American Home Food Products\",\n",
        "    \"G\": \"General Mills\",\n",
        "    \"K\": \"Kellogs\",\n",
        "    \"N\": \"Nabisco\",\n",
        "    \"Q\": \"Quaker Oats\",\n",
        "    \"R\": \"Ralston Purina\",\n",
        "    \"P\": \"Post\"\n",
        "}\n",
        "\n",
        "# We can update a specific Series within the dataframe like this\n",
        "cereal.mfr = cereal.mfr.replace(replacements)\n",
        "# cereal.loc[:,'mfr'] = cereal.loc[:,'mfr'].replace(replacements)\n",
        "\n",
        "# Confirm the change was successful\n",
        "cereal.head()\n",
        "\n",
        "cereal.mfr.value_counts()"
      ],
      "execution_count": 26,
      "outputs": [
        {
          "output_type": "execute_result",
          "data": {
            "text/plain": [
              "Kellogs                        23\n",
              "General Mills                  22\n",
              "Post                            9\n",
              "Quaker Oats                     8\n",
              "Ralston Purina                  8\n",
              "Nabisco                         6\n",
              "American Home Food Products     1\n",
              "Name: mfr, dtype: int64"
            ]
          },
          "metadata": {
            "tags": []
          },
          "execution_count": 26
        }
      ]
    },
    {
      "cell_type": "markdown",
      "metadata": {
        "id": "90AnsMRl8DRB"
      },
      "source": [
        "### Create new columns"
      ]
    },
    {
      "cell_type": "code",
      "metadata": {
        "id": "NWG0vwyb8Ix6",
        "colab": {
          "base_uri": "https://localhost:8080/",
          "height": 442
        },
        "outputId": "44d8eeea-b637-4255-91d9-aeab3a05e8fd"
      },
      "source": [
        "# We can add new columns to the dataframe\n",
        "# Let's make a new column called calories per cup\n",
        "# This will help normalize the caloric density of each cereal\n",
        "\n",
        "# First let's make the Series.  Then we'll add it to the dataframe\n",
        "calories_per_cup = cereal.loc[:,\"calories\"] / cereal.loc[:,\"cups\"]\n",
        "\n",
        "# Confirm that data looks reasonable\n",
        "calories_per_cup\n",
        "\n",
        "# Insert the series into the dataframe\n",
        "cereal.insert(14, \"calories_per_cup\", calories_per_cup)\n",
        "\n",
        "cereal"
      ],
      "execution_count": 27,
      "outputs": [
        {
          "output_type": "execute_result",
          "data": {
            "text/html": [
              "<div>\n",
              "<style scoped>\n",
              "    .dataframe tbody tr th:only-of-type {\n",
              "        vertical-align: middle;\n",
              "    }\n",
              "\n",
              "    .dataframe tbody tr th {\n",
              "        vertical-align: top;\n",
              "    }\n",
              "\n",
              "    .dataframe thead th {\n",
              "        text-align: right;\n",
              "    }\n",
              "</style>\n",
              "<table border=\"1\" class=\"dataframe\">\n",
              "  <thead>\n",
              "    <tr style=\"text-align: right;\">\n",
              "      <th></th>\n",
              "      <th>mfr</th>\n",
              "      <th>type</th>\n",
              "      <th>calories</th>\n",
              "      <th>protein</th>\n",
              "      <th>fat</th>\n",
              "      <th>sodium</th>\n",
              "      <th>fiber</th>\n",
              "      <th>carbo</th>\n",
              "      <th>sugars</th>\n",
              "      <th>potass</th>\n",
              "      <th>vitamins</th>\n",
              "      <th>weight</th>\n",
              "      <th>cups</th>\n",
              "      <th>rating</th>\n",
              "      <th>calories_per_cup</th>\n",
              "    </tr>\n",
              "    <tr>\n",
              "      <th>name</th>\n",
              "      <th></th>\n",
              "      <th></th>\n",
              "      <th></th>\n",
              "      <th></th>\n",
              "      <th></th>\n",
              "      <th></th>\n",
              "      <th></th>\n",
              "      <th></th>\n",
              "      <th></th>\n",
              "      <th></th>\n",
              "      <th></th>\n",
              "      <th></th>\n",
              "      <th></th>\n",
              "      <th></th>\n",
              "      <th></th>\n",
              "    </tr>\n",
              "  </thead>\n",
              "  <tbody>\n",
              "    <tr>\n",
              "      <th>100% Bran</th>\n",
              "      <td>Nabisco</td>\n",
              "      <td>C</td>\n",
              "      <td>70</td>\n",
              "      <td>4</td>\n",
              "      <td>1</td>\n",
              "      <td>130</td>\n",
              "      <td>10.0</td>\n",
              "      <td>5.0</td>\n",
              "      <td>6</td>\n",
              "      <td>280</td>\n",
              "      <td>25</td>\n",
              "      <td>1.0</td>\n",
              "      <td>0.33</td>\n",
              "      <td>68.402973</td>\n",
              "      <td>212.121212</td>\n",
              "    </tr>\n",
              "    <tr>\n",
              "      <th>100% Natural Bran</th>\n",
              "      <td>Quaker Oats</td>\n",
              "      <td>C</td>\n",
              "      <td>120</td>\n",
              "      <td>3</td>\n",
              "      <td>5</td>\n",
              "      <td>15</td>\n",
              "      <td>2.0</td>\n",
              "      <td>8.0</td>\n",
              "      <td>8</td>\n",
              "      <td>135</td>\n",
              "      <td>0</td>\n",
              "      <td>1.0</td>\n",
              "      <td>1.00</td>\n",
              "      <td>33.983679</td>\n",
              "      <td>120.000000</td>\n",
              "    </tr>\n",
              "    <tr>\n",
              "      <th>All-Bran</th>\n",
              "      <td>Kellogs</td>\n",
              "      <td>C</td>\n",
              "      <td>70</td>\n",
              "      <td>4</td>\n",
              "      <td>1</td>\n",
              "      <td>260</td>\n",
              "      <td>9.0</td>\n",
              "      <td>7.0</td>\n",
              "      <td>5</td>\n",
              "      <td>320</td>\n",
              "      <td>25</td>\n",
              "      <td>1.0</td>\n",
              "      <td>0.33</td>\n",
              "      <td>59.425505</td>\n",
              "      <td>212.121212</td>\n",
              "    </tr>\n",
              "    <tr>\n",
              "      <th>All-Bran with Extra Fiber</th>\n",
              "      <td>Kellogs</td>\n",
              "      <td>C</td>\n",
              "      <td>50</td>\n",
              "      <td>4</td>\n",
              "      <td>0</td>\n",
              "      <td>140</td>\n",
              "      <td>14.0</td>\n",
              "      <td>8.0</td>\n",
              "      <td>0</td>\n",
              "      <td>330</td>\n",
              "      <td>25</td>\n",
              "      <td>1.0</td>\n",
              "      <td>0.50</td>\n",
              "      <td>93.704912</td>\n",
              "      <td>100.000000</td>\n",
              "    </tr>\n",
              "    <tr>\n",
              "      <th>Almond Delight</th>\n",
              "      <td>Ralston Purina</td>\n",
              "      <td>C</td>\n",
              "      <td>110</td>\n",
              "      <td>2</td>\n",
              "      <td>2</td>\n",
              "      <td>200</td>\n",
              "      <td>1.0</td>\n",
              "      <td>14.0</td>\n",
              "      <td>8</td>\n",
              "      <td>-1</td>\n",
              "      <td>25</td>\n",
              "      <td>1.0</td>\n",
              "      <td>0.75</td>\n",
              "      <td>34.384843</td>\n",
              "      <td>146.666667</td>\n",
              "    </tr>\n",
              "    <tr>\n",
              "      <th>...</th>\n",
              "      <td>...</td>\n",
              "      <td>...</td>\n",
              "      <td>...</td>\n",
              "      <td>...</td>\n",
              "      <td>...</td>\n",
              "      <td>...</td>\n",
              "      <td>...</td>\n",
              "      <td>...</td>\n",
              "      <td>...</td>\n",
              "      <td>...</td>\n",
              "      <td>...</td>\n",
              "      <td>...</td>\n",
              "      <td>...</td>\n",
              "      <td>...</td>\n",
              "      <td>...</td>\n",
              "    </tr>\n",
              "    <tr>\n",
              "      <th>Triples</th>\n",
              "      <td>General Mills</td>\n",
              "      <td>C</td>\n",
              "      <td>110</td>\n",
              "      <td>2</td>\n",
              "      <td>1</td>\n",
              "      <td>250</td>\n",
              "      <td>0.0</td>\n",
              "      <td>21.0</td>\n",
              "      <td>3</td>\n",
              "      <td>60</td>\n",
              "      <td>25</td>\n",
              "      <td>1.0</td>\n",
              "      <td>0.75</td>\n",
              "      <td>39.106174</td>\n",
              "      <td>146.666667</td>\n",
              "    </tr>\n",
              "    <tr>\n",
              "      <th>Trix</th>\n",
              "      <td>General Mills</td>\n",
              "      <td>C</td>\n",
              "      <td>110</td>\n",
              "      <td>1</td>\n",
              "      <td>1</td>\n",
              "      <td>140</td>\n",
              "      <td>0.0</td>\n",
              "      <td>13.0</td>\n",
              "      <td>12</td>\n",
              "      <td>25</td>\n",
              "      <td>25</td>\n",
              "      <td>1.0</td>\n",
              "      <td>1.00</td>\n",
              "      <td>27.753301</td>\n",
              "      <td>110.000000</td>\n",
              "    </tr>\n",
              "    <tr>\n",
              "      <th>Wheat Chex</th>\n",
              "      <td>Ralston Purina</td>\n",
              "      <td>C</td>\n",
              "      <td>100</td>\n",
              "      <td>3</td>\n",
              "      <td>1</td>\n",
              "      <td>230</td>\n",
              "      <td>3.0</td>\n",
              "      <td>17.0</td>\n",
              "      <td>3</td>\n",
              "      <td>115</td>\n",
              "      <td>25</td>\n",
              "      <td>1.0</td>\n",
              "      <td>0.67</td>\n",
              "      <td>49.787445</td>\n",
              "      <td>149.253731</td>\n",
              "    </tr>\n",
              "    <tr>\n",
              "      <th>Wheaties</th>\n",
              "      <td>General Mills</td>\n",
              "      <td>C</td>\n",
              "      <td>100</td>\n",
              "      <td>3</td>\n",
              "      <td>1</td>\n",
              "      <td>200</td>\n",
              "      <td>3.0</td>\n",
              "      <td>17.0</td>\n",
              "      <td>3</td>\n",
              "      <td>110</td>\n",
              "      <td>25</td>\n",
              "      <td>1.0</td>\n",
              "      <td>1.00</td>\n",
              "      <td>51.592193</td>\n",
              "      <td>100.000000</td>\n",
              "    </tr>\n",
              "    <tr>\n",
              "      <th>Wheaties Honey Gold</th>\n",
              "      <td>General Mills</td>\n",
              "      <td>C</td>\n",
              "      <td>110</td>\n",
              "      <td>2</td>\n",
              "      <td>1</td>\n",
              "      <td>200</td>\n",
              "      <td>1.0</td>\n",
              "      <td>16.0</td>\n",
              "      <td>8</td>\n",
              "      <td>60</td>\n",
              "      <td>25</td>\n",
              "      <td>1.0</td>\n",
              "      <td>0.75</td>\n",
              "      <td>36.187559</td>\n",
              "      <td>146.666667</td>\n",
              "    </tr>\n",
              "  </tbody>\n",
              "</table>\n",
              "<p>77 rows × 15 columns</p>\n",
              "</div>"
            ],
            "text/plain": [
              "                                      mfr type  ...     rating  calories_per_cup\n",
              "name                                            ...                             \n",
              "100% Bran                         Nabisco    C  ...  68.402973        212.121212\n",
              "100% Natural Bran             Quaker Oats    C  ...  33.983679        120.000000\n",
              "All-Bran                          Kellogs    C  ...  59.425505        212.121212\n",
              "All-Bran with Extra Fiber         Kellogs    C  ...  93.704912        100.000000\n",
              "Almond Delight             Ralston Purina    C  ...  34.384843        146.666667\n",
              "...                                   ...  ...  ...        ...               ...\n",
              "Triples                     General Mills    C  ...  39.106174        146.666667\n",
              "Trix                        General Mills    C  ...  27.753301        110.000000\n",
              "Wheat Chex                 Ralston Purina    C  ...  49.787445        149.253731\n",
              "Wheaties                    General Mills    C  ...  51.592193        100.000000\n",
              "Wheaties Honey Gold         General Mills    C  ...  36.187559        146.666667\n",
              "\n",
              "[77 rows x 15 columns]"
            ]
          },
          "metadata": {
            "tags": []
          },
          "execution_count": 27
        }
      ]
    },
    {
      "cell_type": "markdown",
      "metadata": {
        "id": "ZZFPu4pQ-YAt"
      },
      "source": [
        "### Handling missing values\n",
        "\n",
        "Data may come with values missing.  How you handle these missing values will depend on your analysis and what you are trying to do.  \n",
        "\n",
        "For example, one use case may be that you have a numeric column that is a count of something.  If data is missing in this column, we want to make the assumption that that count is 0.  \n",
        "\n",
        "To easily replace missing values in a dataframe, you can use the `.fillna(replacement_value)` method. Here, `replacement_value` is the value that you want to replace your missing values with (e.g. 0 in the example above)"
      ]
    },
    {
      "cell_type": "markdown",
      "metadata": {
        "id": "i5iWVeespxGa"
      },
      "source": [
        "## Accessing Data in a Dataframe\n",
        "\n",
        "There are many ways to access and select the desired data in a dataframe.\n",
        "\n",
        "**`.loc`** (use the index name to access specific rows, cols, data points)\n",
        "- `.loc[row_index]` to access a specific row identified by a specific `row_index` value\n",
        "- `.loc[row_index, column_index]` to access a specific data point identified by the `row_index` and `column_index` (which is generally the column name)\n",
        "\n",
        "**`.iloc`** (use the integer index value to access specific rows, cols, data points)\n",
        "- `.iloc[row_index]` to access a row by the integer index number\n",
        "- `.iloc[row_index, column_index]` to access a specific data point identified by the specified integer index numbers\n",
        "\n",
        "**condition based**\n",
        "- create boolean arrays that specify certain conditions, then subset by them"
      ]
    },
    {
      "cell_type": "markdown",
      "metadata": {
        "id": "_dZjwc8KGOBm"
      },
      "source": [
        "### Selecting via index"
      ]
    },
    {
      "cell_type": "code",
      "metadata": {
        "id": "EC2g2vWMm_VN",
        "colab": {
          "base_uri": "https://localhost:8080/"
        },
        "outputId": "b6b85128-5103-4d1b-8e95-efd026f68557"
      },
      "source": [
        "# .loc\n",
        "# Grab a row using the index name\n",
        "cereal.loc['Apple Jacks', :]"
      ],
      "execution_count": 28,
      "outputs": [
        {
          "output_type": "execute_result",
          "data": {
            "text/plain": [
              "mfr                 Kellogs\n",
              "type                      C\n",
              "calories                110\n",
              "protein                   2\n",
              "fat                       0\n",
              "sodium                  125\n",
              "fiber                     1\n",
              "carbo                    11\n",
              "sugars                   14\n",
              "potass                   30\n",
              "vitamins                 25\n",
              "weight                    1\n",
              "cups                      1\n",
              "rating              33.1741\n",
              "calories_per_cup        110\n",
              "Name: Apple Jacks, dtype: object"
            ]
          },
          "metadata": {
            "tags": []
          },
          "execution_count": 28
        }
      ]
    },
    {
      "cell_type": "code",
      "metadata": {
        "id": "WBstt77AstYN",
        "colab": {
          "base_uri": "https://localhost:8080/"
        },
        "outputId": "0a35211b-ae80-4558-d2f8-dc59a02d5c6e"
      },
      "source": [
        "# Grab a column using the column name\n",
        "cereal.loc[:,'calories']"
      ],
      "execution_count": 29,
      "outputs": [
        {
          "output_type": "execute_result",
          "data": {
            "text/plain": [
              "name\n",
              "100% Bran                     70\n",
              "100% Natural Bran            120\n",
              "All-Bran                      70\n",
              "All-Bran with Extra Fiber     50\n",
              "Almond Delight               110\n",
              "                            ... \n",
              "Triples                      110\n",
              "Trix                         110\n",
              "Wheat Chex                   100\n",
              "Wheaties                     100\n",
              "Wheaties Honey Gold          110\n",
              "Name: calories, Length: 77, dtype: int64"
            ]
          },
          "metadata": {
            "tags": []
          },
          "execution_count": 29
        }
      ]
    },
    {
      "cell_type": "code",
      "metadata": {
        "id": "xAODzMQxs7oY",
        "colab": {
          "base_uri": "https://localhost:8080/"
        },
        "outputId": "d307bccd-4a00-42e8-ea44-f579056ce2b7"
      },
      "source": [
        "# Grab a specific data point using both row and column names\n",
        "cereal.loc['Apple Jacks','calories']"
      ],
      "execution_count": 30,
      "outputs": [
        {
          "output_type": "execute_result",
          "data": {
            "text/plain": [
              "110"
            ]
          },
          "metadata": {
            "tags": []
          },
          "execution_count": 30
        }
      ]
    },
    {
      "cell_type": "code",
      "metadata": {
        "id": "5EORuzmhL750",
        "colab": {
          "base_uri": "https://localhost:8080/",
          "height": 140
        },
        "outputId": "c623aa6e-6150-480f-fc4e-c44f75214470"
      },
      "source": [
        "cereal.loc[['Apple Jacks','Cheerios'],['mfr','calories','rating']]"
      ],
      "execution_count": 31,
      "outputs": [
        {
          "output_type": "execute_result",
          "data": {
            "text/html": [
              "<div>\n",
              "<style scoped>\n",
              "    .dataframe tbody tr th:only-of-type {\n",
              "        vertical-align: middle;\n",
              "    }\n",
              "\n",
              "    .dataframe tbody tr th {\n",
              "        vertical-align: top;\n",
              "    }\n",
              "\n",
              "    .dataframe thead th {\n",
              "        text-align: right;\n",
              "    }\n",
              "</style>\n",
              "<table border=\"1\" class=\"dataframe\">\n",
              "  <thead>\n",
              "    <tr style=\"text-align: right;\">\n",
              "      <th></th>\n",
              "      <th>mfr</th>\n",
              "      <th>calories</th>\n",
              "      <th>rating</th>\n",
              "    </tr>\n",
              "    <tr>\n",
              "      <th>name</th>\n",
              "      <th></th>\n",
              "      <th></th>\n",
              "      <th></th>\n",
              "    </tr>\n",
              "  </thead>\n",
              "  <tbody>\n",
              "    <tr>\n",
              "      <th>Apple Jacks</th>\n",
              "      <td>Kellogs</td>\n",
              "      <td>110</td>\n",
              "      <td>33.174094</td>\n",
              "    </tr>\n",
              "    <tr>\n",
              "      <th>Cheerios</th>\n",
              "      <td>General Mills</td>\n",
              "      <td>110</td>\n",
              "      <td>50.764999</td>\n",
              "    </tr>\n",
              "  </tbody>\n",
              "</table>\n",
              "</div>"
            ],
            "text/plain": [
              "                       mfr  calories     rating\n",
              "name                                           \n",
              "Apple Jacks        Kellogs       110  33.174094\n",
              "Cheerios     General Mills       110  50.764999"
            ]
          },
          "metadata": {
            "tags": []
          },
          "execution_count": 31
        }
      ]
    },
    {
      "cell_type": "code",
      "metadata": {
        "id": "4FBPXcXItNWM",
        "colab": {
          "base_uri": "https://localhost:8080/"
        },
        "outputId": "e9dc356d-0d52-473d-b3ff-c5a3142ac9fc"
      },
      "source": [
        "# .iloc\n",
        "# Grab a specific row (-1 being the last row)\n",
        "cereal.iloc[-1]"
      ],
      "execution_count": 32,
      "outputs": [
        {
          "output_type": "execute_result",
          "data": {
            "text/plain": [
              "mfr                 General Mills\n",
              "type                            C\n",
              "calories                      110\n",
              "protein                         2\n",
              "fat                             1\n",
              "sodium                        200\n",
              "fiber                           1\n",
              "carbo                          16\n",
              "sugars                          8\n",
              "potass                         60\n",
              "vitamins                       25\n",
              "weight                          1\n",
              "cups                         0.75\n",
              "rating                    36.1876\n",
              "calories_per_cup          146.667\n",
              "Name: Wheaties Honey Gold, dtype: object"
            ]
          },
          "metadata": {
            "tags": []
          },
          "execution_count": 32
        }
      ]
    },
    {
      "cell_type": "code",
      "metadata": {
        "id": "uDXWFJMftX5S",
        "colab": {
          "base_uri": "https://localhost:8080/"
        },
        "outputId": "70dfcfca-ee2f-40a3-b8f6-9bf514fcfc5b"
      },
      "source": [
        "# Grab a specific column (column order is from left to right)\n",
        "cereal.iloc[:,0]"
      ],
      "execution_count": 33,
      "outputs": [
        {
          "output_type": "execute_result",
          "data": {
            "text/plain": [
              "name\n",
              "100% Bran                           Nabisco\n",
              "100% Natural Bran               Quaker Oats\n",
              "All-Bran                            Kellogs\n",
              "All-Bran with Extra Fiber           Kellogs\n",
              "Almond Delight               Ralston Purina\n",
              "                                  ...      \n",
              "Triples                       General Mills\n",
              "Trix                          General Mills\n",
              "Wheat Chex                   Ralston Purina\n",
              "Wheaties                      General Mills\n",
              "Wheaties Honey Gold           General Mills\n",
              "Name: mfr, Length: 77, dtype: object"
            ]
          },
          "metadata": {
            "tags": []
          },
          "execution_count": 33
        }
      ]
    },
    {
      "cell_type": "code",
      "metadata": {
        "id": "OPP1EUW0tdLC",
        "colab": {
          "base_uri": "https://localhost:8080/",
          "height": 34
        },
        "outputId": "5e2e1894-26d6-45e5-ab10-4a0cddc91708"
      },
      "source": [
        "# Grab a specific data point\n",
        "cereal.iloc[-1, 0]"
      ],
      "execution_count": 34,
      "outputs": [
        {
          "output_type": "execute_result",
          "data": {
            "application/vnd.google.colaboratory.intrinsic+json": {
              "type": "string"
            },
            "text/plain": [
              "'General Mills'"
            ]
          },
          "metadata": {
            "tags": []
          },
          "execution_count": 34
        }
      ]
    },
    {
      "cell_type": "markdown",
      "metadata": {
        "id": "opHsQ8BFGKdC"
      },
      "source": [
        "### Conditional selection via boolean arrays"
      ]
    },
    {
      "cell_type": "code",
      "metadata": {
        "id": "ACCqEjKXtt0X",
        "colab": {
          "base_uri": "https://localhost:8080/"
        },
        "outputId": "6c22baa5-f3a6-4bc6-b3ec-2fb8aa6cbe9f"
      },
      "source": [
        "# Conditional selection by creating boolean arrays\n",
        "is_high_sugar = cereal.loc[:,'sugars'] >= 10  # Defining high sugar as greater than 10g\n",
        "is_high_sugar"
      ],
      "execution_count": 35,
      "outputs": [
        {
          "output_type": "execute_result",
          "data": {
            "text/plain": [
              "name\n",
              "100% Bran                    False\n",
              "100% Natural Bran            False\n",
              "All-Bran                     False\n",
              "All-Bran with Extra Fiber    False\n",
              "Almond Delight               False\n",
              "                             ...  \n",
              "Triples                      False\n",
              "Trix                          True\n",
              "Wheat Chex                   False\n",
              "Wheaties                     False\n",
              "Wheaties Honey Gold          False\n",
              "Name: sugars, Length: 77, dtype: bool"
            ]
          },
          "metadata": {
            "tags": []
          },
          "execution_count": 35
        }
      ]
    },
    {
      "cell_type": "code",
      "metadata": {
        "id": "xjoDDFd1C8GO",
        "colab": {
          "base_uri": "https://localhost:8080/",
          "height": 231
        },
        "outputId": "ef8df031-378d-48a1-f7ff-ee319670e63b"
      },
      "source": [
        "cereal[is_high_sugar].head()"
      ],
      "execution_count": 36,
      "outputs": [
        {
          "output_type": "execute_result",
          "data": {
            "text/html": [
              "<div>\n",
              "<style scoped>\n",
              "    .dataframe tbody tr th:only-of-type {\n",
              "        vertical-align: middle;\n",
              "    }\n",
              "\n",
              "    .dataframe tbody tr th {\n",
              "        vertical-align: top;\n",
              "    }\n",
              "\n",
              "    .dataframe thead th {\n",
              "        text-align: right;\n",
              "    }\n",
              "</style>\n",
              "<table border=\"1\" class=\"dataframe\">\n",
              "  <thead>\n",
              "    <tr style=\"text-align: right;\">\n",
              "      <th></th>\n",
              "      <th>mfr</th>\n",
              "      <th>type</th>\n",
              "      <th>calories</th>\n",
              "      <th>protein</th>\n",
              "      <th>fat</th>\n",
              "      <th>sodium</th>\n",
              "      <th>fiber</th>\n",
              "      <th>carbo</th>\n",
              "      <th>sugars</th>\n",
              "      <th>potass</th>\n",
              "      <th>vitamins</th>\n",
              "      <th>weight</th>\n",
              "      <th>cups</th>\n",
              "      <th>rating</th>\n",
              "      <th>calories_per_cup</th>\n",
              "    </tr>\n",
              "    <tr>\n",
              "      <th>name</th>\n",
              "      <th></th>\n",
              "      <th></th>\n",
              "      <th></th>\n",
              "      <th></th>\n",
              "      <th></th>\n",
              "      <th></th>\n",
              "      <th></th>\n",
              "      <th></th>\n",
              "      <th></th>\n",
              "      <th></th>\n",
              "      <th></th>\n",
              "      <th></th>\n",
              "      <th></th>\n",
              "      <th></th>\n",
              "      <th></th>\n",
              "    </tr>\n",
              "  </thead>\n",
              "  <tbody>\n",
              "    <tr>\n",
              "      <th>Apple Cinnamon Cheerios</th>\n",
              "      <td>General Mills</td>\n",
              "      <td>C</td>\n",
              "      <td>110</td>\n",
              "      <td>2</td>\n",
              "      <td>2</td>\n",
              "      <td>180</td>\n",
              "      <td>1.5</td>\n",
              "      <td>10.5</td>\n",
              "      <td>10</td>\n",
              "      <td>70</td>\n",
              "      <td>25</td>\n",
              "      <td>1.0</td>\n",
              "      <td>0.75</td>\n",
              "      <td>29.509541</td>\n",
              "      <td>146.666667</td>\n",
              "    </tr>\n",
              "    <tr>\n",
              "      <th>Apple Jacks</th>\n",
              "      <td>Kellogs</td>\n",
              "      <td>C</td>\n",
              "      <td>110</td>\n",
              "      <td>2</td>\n",
              "      <td>0</td>\n",
              "      <td>125</td>\n",
              "      <td>1.0</td>\n",
              "      <td>11.0</td>\n",
              "      <td>14</td>\n",
              "      <td>30</td>\n",
              "      <td>25</td>\n",
              "      <td>1.0</td>\n",
              "      <td>1.00</td>\n",
              "      <td>33.174094</td>\n",
              "      <td>110.000000</td>\n",
              "    </tr>\n",
              "    <tr>\n",
              "      <th>Cap'n'Crunch</th>\n",
              "      <td>Quaker Oats</td>\n",
              "      <td>C</td>\n",
              "      <td>120</td>\n",
              "      <td>1</td>\n",
              "      <td>2</td>\n",
              "      <td>220</td>\n",
              "      <td>0.0</td>\n",
              "      <td>12.0</td>\n",
              "      <td>12</td>\n",
              "      <td>35</td>\n",
              "      <td>25</td>\n",
              "      <td>1.0</td>\n",
              "      <td>0.75</td>\n",
              "      <td>18.042851</td>\n",
              "      <td>160.000000</td>\n",
              "    </tr>\n",
              "    <tr>\n",
              "      <th>Cocoa Puffs</th>\n",
              "      <td>General Mills</td>\n",
              "      <td>C</td>\n",
              "      <td>110</td>\n",
              "      <td>1</td>\n",
              "      <td>1</td>\n",
              "      <td>180</td>\n",
              "      <td>0.0</td>\n",
              "      <td>12.0</td>\n",
              "      <td>13</td>\n",
              "      <td>55</td>\n",
              "      <td>25</td>\n",
              "      <td>1.0</td>\n",
              "      <td>1.00</td>\n",
              "      <td>22.736446</td>\n",
              "      <td>110.000000</td>\n",
              "    </tr>\n",
              "    <tr>\n",
              "      <th>Corn Pops</th>\n",
              "      <td>Kellogs</td>\n",
              "      <td>C</td>\n",
              "      <td>110</td>\n",
              "      <td>1</td>\n",
              "      <td>0</td>\n",
              "      <td>90</td>\n",
              "      <td>1.0</td>\n",
              "      <td>13.0</td>\n",
              "      <td>12</td>\n",
              "      <td>20</td>\n",
              "      <td>25</td>\n",
              "      <td>1.0</td>\n",
              "      <td>1.00</td>\n",
              "      <td>35.782791</td>\n",
              "      <td>110.000000</td>\n",
              "    </tr>\n",
              "  </tbody>\n",
              "</table>\n",
              "</div>"
            ],
            "text/plain": [
              "                                   mfr type  ...     rating  calories_per_cup\n",
              "name                                         ...                             \n",
              "Apple Cinnamon Cheerios  General Mills    C  ...  29.509541        146.666667\n",
              "Apple Jacks                    Kellogs    C  ...  33.174094        110.000000\n",
              "Cap'n'Crunch               Quaker Oats    C  ...  18.042851        160.000000\n",
              "Cocoa Puffs              General Mills    C  ...  22.736446        110.000000\n",
              "Corn Pops                      Kellogs    C  ...  35.782791        110.000000\n",
              "\n",
              "[5 rows x 15 columns]"
            ]
          },
          "metadata": {
            "tags": []
          },
          "execution_count": 36
        }
      ]
    },
    {
      "cell_type": "code",
      "metadata": {
        "id": "jpGTTApqDEo2",
        "colab": {
          "base_uri": "https://localhost:8080/",
          "height": 442
        },
        "outputId": "5fa49a98-2d8f-49c1-ceca-696264a8da37"
      },
      "source": [
        "# Combining multiple boolean arrays to filter\n",
        "# First let's create a second condition\n",
        "is_high_carb = cereal.loc[:,'carbo'] >= 10 \n",
        "\n",
        "# To combine them, we can use bitwise operators\n",
        "# & = and\n",
        "# | = or\n",
        "# ~ = not\n",
        "\n",
        "cereal[is_high_sugar | is_high_carb].loc[:,['mfr', 'calories', 'carbo', 'sugars']]"
      ],
      "execution_count": 37,
      "outputs": [
        {
          "output_type": "execute_result",
          "data": {
            "text/html": [
              "<div>\n",
              "<style scoped>\n",
              "    .dataframe tbody tr th:only-of-type {\n",
              "        vertical-align: middle;\n",
              "    }\n",
              "\n",
              "    .dataframe tbody tr th {\n",
              "        vertical-align: top;\n",
              "    }\n",
              "\n",
              "    .dataframe thead th {\n",
              "        text-align: right;\n",
              "    }\n",
              "</style>\n",
              "<table border=\"1\" class=\"dataframe\">\n",
              "  <thead>\n",
              "    <tr style=\"text-align: right;\">\n",
              "      <th></th>\n",
              "      <th>mfr</th>\n",
              "      <th>calories</th>\n",
              "      <th>carbo</th>\n",
              "      <th>sugars</th>\n",
              "    </tr>\n",
              "    <tr>\n",
              "      <th>name</th>\n",
              "      <th></th>\n",
              "      <th></th>\n",
              "      <th></th>\n",
              "      <th></th>\n",
              "    </tr>\n",
              "  </thead>\n",
              "  <tbody>\n",
              "    <tr>\n",
              "      <th>Almond Delight</th>\n",
              "      <td>Ralston Purina</td>\n",
              "      <td>110</td>\n",
              "      <td>14.0</td>\n",
              "      <td>8</td>\n",
              "    </tr>\n",
              "    <tr>\n",
              "      <th>Apple Cinnamon Cheerios</th>\n",
              "      <td>General Mills</td>\n",
              "      <td>110</td>\n",
              "      <td>10.5</td>\n",
              "      <td>10</td>\n",
              "    </tr>\n",
              "    <tr>\n",
              "      <th>Apple Jacks</th>\n",
              "      <td>Kellogs</td>\n",
              "      <td>110</td>\n",
              "      <td>11.0</td>\n",
              "      <td>14</td>\n",
              "    </tr>\n",
              "    <tr>\n",
              "      <th>Basic 4</th>\n",
              "      <td>General Mills</td>\n",
              "      <td>130</td>\n",
              "      <td>18.0</td>\n",
              "      <td>8</td>\n",
              "    </tr>\n",
              "    <tr>\n",
              "      <th>Bran Chex</th>\n",
              "      <td>Ralston Purina</td>\n",
              "      <td>90</td>\n",
              "      <td>15.0</td>\n",
              "      <td>6</td>\n",
              "    </tr>\n",
              "    <tr>\n",
              "      <th>...</th>\n",
              "      <td>...</td>\n",
              "      <td>...</td>\n",
              "      <td>...</td>\n",
              "      <td>...</td>\n",
              "    </tr>\n",
              "    <tr>\n",
              "      <th>Triples</th>\n",
              "      <td>General Mills</td>\n",
              "      <td>110</td>\n",
              "      <td>21.0</td>\n",
              "      <td>3</td>\n",
              "    </tr>\n",
              "    <tr>\n",
              "      <th>Trix</th>\n",
              "      <td>General Mills</td>\n",
              "      <td>110</td>\n",
              "      <td>13.0</td>\n",
              "      <td>12</td>\n",
              "    </tr>\n",
              "    <tr>\n",
              "      <th>Wheat Chex</th>\n",
              "      <td>Ralston Purina</td>\n",
              "      <td>100</td>\n",
              "      <td>17.0</td>\n",
              "      <td>3</td>\n",
              "    </tr>\n",
              "    <tr>\n",
              "      <th>Wheaties</th>\n",
              "      <td>General Mills</td>\n",
              "      <td>100</td>\n",
              "      <td>17.0</td>\n",
              "      <td>3</td>\n",
              "    </tr>\n",
              "    <tr>\n",
              "      <th>Wheaties Honey Gold</th>\n",
              "      <td>General Mills</td>\n",
              "      <td>110</td>\n",
              "      <td>16.0</td>\n",
              "      <td>8</td>\n",
              "    </tr>\n",
              "  </tbody>\n",
              "</table>\n",
              "<p>72 rows × 4 columns</p>\n",
              "</div>"
            ],
            "text/plain": [
              "                                    mfr  calories  carbo  sugars\n",
              "name                                                            \n",
              "Almond Delight           Ralston Purina       110   14.0       8\n",
              "Apple Cinnamon Cheerios   General Mills       110   10.5      10\n",
              "Apple Jacks                     Kellogs       110   11.0      14\n",
              "Basic 4                   General Mills       130   18.0       8\n",
              "Bran Chex                Ralston Purina        90   15.0       6\n",
              "...                                 ...       ...    ...     ...\n",
              "Triples                   General Mills       110   21.0       3\n",
              "Trix                      General Mills       110   13.0      12\n",
              "Wheat Chex               Ralston Purina       100   17.0       3\n",
              "Wheaties                  General Mills       100   17.0       3\n",
              "Wheaties Honey Gold       General Mills       110   16.0       8\n",
              "\n",
              "[72 rows x 4 columns]"
            ]
          },
          "metadata": {
            "tags": []
          },
          "execution_count": 37
        }
      ]
    },
    {
      "cell_type": "code",
      "metadata": {
        "id": "VAZcVXcBuIHT"
      },
      "source": [
        "# Other ways to make boolean arrays for conditional selection\n",
        "\n",
        "# Testing a string\n",
        "# We use index in these examples below because we've made the name the index\n",
        "# and this is one of the few strings in this data set\n",
        "# Normally you should replace index with a .loc[:,'column_name']\n",
        "honey_in_name = cereal.index.str.contains(\"Honey\")  # The cereal name contains the word \"Honey\"\n",
        "starts_with_apple = cereal.index.str.startswith(\"Apple\") # The cereal name starts with \"Apple\"\n",
        "is_cheerio = cereal.index.str.lower().str.contains(\"cheerio\")"
      ],
      "execution_count": 39,
      "outputs": []
    },
    {
      "cell_type": "code",
      "metadata": {
        "id": "4nLUYY9OGyf9",
        "colab": {
          "base_uri": "https://localhost:8080/",
          "height": 201
        },
        "outputId": "6081ea78-15e4-4bdd-c24b-7728f066022c"
      },
      "source": [
        "cereal[is_cheerio]"
      ],
      "execution_count": 40,
      "outputs": [
        {
          "output_type": "execute_result",
          "data": {
            "text/html": [
              "<div>\n",
              "<style scoped>\n",
              "    .dataframe tbody tr th:only-of-type {\n",
              "        vertical-align: middle;\n",
              "    }\n",
              "\n",
              "    .dataframe tbody tr th {\n",
              "        vertical-align: top;\n",
              "    }\n",
              "\n",
              "    .dataframe thead th {\n",
              "        text-align: right;\n",
              "    }\n",
              "</style>\n",
              "<table border=\"1\" class=\"dataframe\">\n",
              "  <thead>\n",
              "    <tr style=\"text-align: right;\">\n",
              "      <th></th>\n",
              "      <th>mfr</th>\n",
              "      <th>type</th>\n",
              "      <th>calories</th>\n",
              "      <th>protein</th>\n",
              "      <th>fat</th>\n",
              "      <th>sodium</th>\n",
              "      <th>fiber</th>\n",
              "      <th>carbo</th>\n",
              "      <th>sugars</th>\n",
              "      <th>potass</th>\n",
              "      <th>vitamins</th>\n",
              "      <th>weight</th>\n",
              "      <th>cups</th>\n",
              "      <th>rating</th>\n",
              "      <th>calories_per_cup</th>\n",
              "    </tr>\n",
              "    <tr>\n",
              "      <th>name</th>\n",
              "      <th></th>\n",
              "      <th></th>\n",
              "      <th></th>\n",
              "      <th></th>\n",
              "      <th></th>\n",
              "      <th></th>\n",
              "      <th></th>\n",
              "      <th></th>\n",
              "      <th></th>\n",
              "      <th></th>\n",
              "      <th></th>\n",
              "      <th></th>\n",
              "      <th></th>\n",
              "      <th></th>\n",
              "      <th></th>\n",
              "    </tr>\n",
              "  </thead>\n",
              "  <tbody>\n",
              "    <tr>\n",
              "      <th>Apple Cinnamon Cheerios</th>\n",
              "      <td>General Mills</td>\n",
              "      <td>C</td>\n",
              "      <td>110</td>\n",
              "      <td>2</td>\n",
              "      <td>2</td>\n",
              "      <td>180</td>\n",
              "      <td>1.5</td>\n",
              "      <td>10.5</td>\n",
              "      <td>10</td>\n",
              "      <td>70</td>\n",
              "      <td>25</td>\n",
              "      <td>1.0</td>\n",
              "      <td>0.75</td>\n",
              "      <td>29.509541</td>\n",
              "      <td>146.666667</td>\n",
              "    </tr>\n",
              "    <tr>\n",
              "      <th>Cheerios</th>\n",
              "      <td>General Mills</td>\n",
              "      <td>C</td>\n",
              "      <td>110</td>\n",
              "      <td>6</td>\n",
              "      <td>2</td>\n",
              "      <td>290</td>\n",
              "      <td>2.0</td>\n",
              "      <td>17.0</td>\n",
              "      <td>1</td>\n",
              "      <td>105</td>\n",
              "      <td>25</td>\n",
              "      <td>1.0</td>\n",
              "      <td>1.25</td>\n",
              "      <td>50.764999</td>\n",
              "      <td>88.000000</td>\n",
              "    </tr>\n",
              "    <tr>\n",
              "      <th>Honey Nut Cheerios</th>\n",
              "      <td>General Mills</td>\n",
              "      <td>C</td>\n",
              "      <td>110</td>\n",
              "      <td>3</td>\n",
              "      <td>1</td>\n",
              "      <td>250</td>\n",
              "      <td>1.5</td>\n",
              "      <td>11.5</td>\n",
              "      <td>10</td>\n",
              "      <td>90</td>\n",
              "      <td>25</td>\n",
              "      <td>1.0</td>\n",
              "      <td>0.75</td>\n",
              "      <td>31.072217</td>\n",
              "      <td>146.666667</td>\n",
              "    </tr>\n",
              "    <tr>\n",
              "      <th>Multi-Grain Cheerios</th>\n",
              "      <td>General Mills</td>\n",
              "      <td>C</td>\n",
              "      <td>100</td>\n",
              "      <td>2</td>\n",
              "      <td>1</td>\n",
              "      <td>220</td>\n",
              "      <td>2.0</td>\n",
              "      <td>15.0</td>\n",
              "      <td>6</td>\n",
              "      <td>90</td>\n",
              "      <td>25</td>\n",
              "      <td>1.0</td>\n",
              "      <td>1.00</td>\n",
              "      <td>40.105965</td>\n",
              "      <td>100.000000</td>\n",
              "    </tr>\n",
              "  </tbody>\n",
              "</table>\n",
              "</div>"
            ],
            "text/plain": [
              "                                   mfr type  ...     rating  calories_per_cup\n",
              "name                                         ...                             \n",
              "Apple Cinnamon Cheerios  General Mills    C  ...  29.509541        146.666667\n",
              "Cheerios                 General Mills    C  ...  50.764999         88.000000\n",
              "Honey Nut Cheerios       General Mills    C  ...  31.072217        146.666667\n",
              "Multi-Grain Cheerios     General Mills    C  ...  40.105965        100.000000\n",
              "\n",
              "[4 rows x 15 columns]"
            ]
          },
          "metadata": {
            "tags": []
          },
          "execution_count": 40
        }
      ]
    },
    {
      "cell_type": "markdown",
      "metadata": {
        "id": "V_t7ltJMIp07"
      },
      "source": [
        "### Sort Values"
      ]
    },
    {
      "cell_type": "code",
      "metadata": {
        "id": "TRWodaJeIo5m",
        "colab": {
          "base_uri": "https://localhost:8080/",
          "height": 442
        },
        "outputId": "9b3fc337-0232-4dc2-f978-59f51a3d2a7f"
      },
      "source": [
        "# Sorting values is helpful when exploring the data\n",
        "\n",
        "cereal.sort_values(by=['calories'], ascending=False)"
      ],
      "execution_count": 41,
      "outputs": [
        {
          "output_type": "execute_result",
          "data": {
            "text/html": [
              "<div>\n",
              "<style scoped>\n",
              "    .dataframe tbody tr th:only-of-type {\n",
              "        vertical-align: middle;\n",
              "    }\n",
              "\n",
              "    .dataframe tbody tr th {\n",
              "        vertical-align: top;\n",
              "    }\n",
              "\n",
              "    .dataframe thead th {\n",
              "        text-align: right;\n",
              "    }\n",
              "</style>\n",
              "<table border=\"1\" class=\"dataframe\">\n",
              "  <thead>\n",
              "    <tr style=\"text-align: right;\">\n",
              "      <th></th>\n",
              "      <th>mfr</th>\n",
              "      <th>type</th>\n",
              "      <th>calories</th>\n",
              "      <th>protein</th>\n",
              "      <th>fat</th>\n",
              "      <th>sodium</th>\n",
              "      <th>fiber</th>\n",
              "      <th>carbo</th>\n",
              "      <th>sugars</th>\n",
              "      <th>potass</th>\n",
              "      <th>vitamins</th>\n",
              "      <th>weight</th>\n",
              "      <th>cups</th>\n",
              "      <th>rating</th>\n",
              "      <th>calories_per_cup</th>\n",
              "    </tr>\n",
              "    <tr>\n",
              "      <th>name</th>\n",
              "      <th></th>\n",
              "      <th></th>\n",
              "      <th></th>\n",
              "      <th></th>\n",
              "      <th></th>\n",
              "      <th></th>\n",
              "      <th></th>\n",
              "      <th></th>\n",
              "      <th></th>\n",
              "      <th></th>\n",
              "      <th></th>\n",
              "      <th></th>\n",
              "      <th></th>\n",
              "      <th></th>\n",
              "      <th></th>\n",
              "    </tr>\n",
              "  </thead>\n",
              "  <tbody>\n",
              "    <tr>\n",
              "      <th>Mueslix Crispy Blend</th>\n",
              "      <td>Kellogs</td>\n",
              "      <td>C</td>\n",
              "      <td>160</td>\n",
              "      <td>3</td>\n",
              "      <td>2</td>\n",
              "      <td>150</td>\n",
              "      <td>3.0</td>\n",
              "      <td>17.0</td>\n",
              "      <td>13</td>\n",
              "      <td>160</td>\n",
              "      <td>25</td>\n",
              "      <td>1.5</td>\n",
              "      <td>0.67</td>\n",
              "      <td>30.313351</td>\n",
              "      <td>238.805970</td>\n",
              "    </tr>\n",
              "    <tr>\n",
              "      <th>Muesli Raisins; Dates; &amp; Almonds</th>\n",
              "      <td>Ralston Purina</td>\n",
              "      <td>C</td>\n",
              "      <td>150</td>\n",
              "      <td>4</td>\n",
              "      <td>3</td>\n",
              "      <td>95</td>\n",
              "      <td>3.0</td>\n",
              "      <td>16.0</td>\n",
              "      <td>11</td>\n",
              "      <td>170</td>\n",
              "      <td>25</td>\n",
              "      <td>1.0</td>\n",
              "      <td>1.00</td>\n",
              "      <td>37.136863</td>\n",
              "      <td>150.000000</td>\n",
              "    </tr>\n",
              "    <tr>\n",
              "      <th>Muesli Raisins; Peaches; &amp; Pecans</th>\n",
              "      <td>Ralston Purina</td>\n",
              "      <td>C</td>\n",
              "      <td>150</td>\n",
              "      <td>4</td>\n",
              "      <td>3</td>\n",
              "      <td>150</td>\n",
              "      <td>3.0</td>\n",
              "      <td>16.0</td>\n",
              "      <td>11</td>\n",
              "      <td>170</td>\n",
              "      <td>25</td>\n",
              "      <td>1.0</td>\n",
              "      <td>1.00</td>\n",
              "      <td>34.139765</td>\n",
              "      <td>150.000000</td>\n",
              "    </tr>\n",
              "    <tr>\n",
              "      <th>Total Raisin Bran</th>\n",
              "      <td>General Mills</td>\n",
              "      <td>C</td>\n",
              "      <td>140</td>\n",
              "      <td>3</td>\n",
              "      <td>1</td>\n",
              "      <td>190</td>\n",
              "      <td>4.0</td>\n",
              "      <td>15.0</td>\n",
              "      <td>14</td>\n",
              "      <td>230</td>\n",
              "      <td>100</td>\n",
              "      <td>1.5</td>\n",
              "      <td>1.00</td>\n",
              "      <td>28.592785</td>\n",
              "      <td>140.000000</td>\n",
              "    </tr>\n",
              "    <tr>\n",
              "      <th>Just Right Fruit &amp; Nut</th>\n",
              "      <td>Kellogs</td>\n",
              "      <td>C</td>\n",
              "      <td>140</td>\n",
              "      <td>3</td>\n",
              "      <td>1</td>\n",
              "      <td>170</td>\n",
              "      <td>2.0</td>\n",
              "      <td>20.0</td>\n",
              "      <td>9</td>\n",
              "      <td>95</td>\n",
              "      <td>100</td>\n",
              "      <td>1.3</td>\n",
              "      <td>0.75</td>\n",
              "      <td>36.471512</td>\n",
              "      <td>186.666667</td>\n",
              "    </tr>\n",
              "    <tr>\n",
              "      <th>...</th>\n",
              "      <td>...</td>\n",
              "      <td>...</td>\n",
              "      <td>...</td>\n",
              "      <td>...</td>\n",
              "      <td>...</td>\n",
              "      <td>...</td>\n",
              "      <td>...</td>\n",
              "      <td>...</td>\n",
              "      <td>...</td>\n",
              "      <td>...</td>\n",
              "      <td>...</td>\n",
              "      <td>...</td>\n",
              "      <td>...</td>\n",
              "      <td>...</td>\n",
              "      <td>...</td>\n",
              "    </tr>\n",
              "    <tr>\n",
              "      <th>All-Bran</th>\n",
              "      <td>Kellogs</td>\n",
              "      <td>C</td>\n",
              "      <td>70</td>\n",
              "      <td>4</td>\n",
              "      <td>1</td>\n",
              "      <td>260</td>\n",
              "      <td>9.0</td>\n",
              "      <td>7.0</td>\n",
              "      <td>5</td>\n",
              "      <td>320</td>\n",
              "      <td>25</td>\n",
              "      <td>1.0</td>\n",
              "      <td>0.33</td>\n",
              "      <td>59.425505</td>\n",
              "      <td>212.121212</td>\n",
              "    </tr>\n",
              "    <tr>\n",
              "      <th>100% Bran</th>\n",
              "      <td>Nabisco</td>\n",
              "      <td>C</td>\n",
              "      <td>70</td>\n",
              "      <td>4</td>\n",
              "      <td>1</td>\n",
              "      <td>130</td>\n",
              "      <td>10.0</td>\n",
              "      <td>5.0</td>\n",
              "      <td>6</td>\n",
              "      <td>280</td>\n",
              "      <td>25</td>\n",
              "      <td>1.0</td>\n",
              "      <td>0.33</td>\n",
              "      <td>68.402973</td>\n",
              "      <td>212.121212</td>\n",
              "    </tr>\n",
              "    <tr>\n",
              "      <th>All-Bran with Extra Fiber</th>\n",
              "      <td>Kellogs</td>\n",
              "      <td>C</td>\n",
              "      <td>50</td>\n",
              "      <td>4</td>\n",
              "      <td>0</td>\n",
              "      <td>140</td>\n",
              "      <td>14.0</td>\n",
              "      <td>8.0</td>\n",
              "      <td>0</td>\n",
              "      <td>330</td>\n",
              "      <td>25</td>\n",
              "      <td>1.0</td>\n",
              "      <td>0.50</td>\n",
              "      <td>93.704912</td>\n",
              "      <td>100.000000</td>\n",
              "    </tr>\n",
              "    <tr>\n",
              "      <th>Puffed Wheat</th>\n",
              "      <td>Quaker Oats</td>\n",
              "      <td>C</td>\n",
              "      <td>50</td>\n",
              "      <td>2</td>\n",
              "      <td>0</td>\n",
              "      <td>0</td>\n",
              "      <td>1.0</td>\n",
              "      <td>10.0</td>\n",
              "      <td>0</td>\n",
              "      <td>50</td>\n",
              "      <td>0</td>\n",
              "      <td>0.5</td>\n",
              "      <td>1.00</td>\n",
              "      <td>63.005645</td>\n",
              "      <td>50.000000</td>\n",
              "    </tr>\n",
              "    <tr>\n",
              "      <th>Puffed Rice</th>\n",
              "      <td>Quaker Oats</td>\n",
              "      <td>C</td>\n",
              "      <td>50</td>\n",
              "      <td>1</td>\n",
              "      <td>0</td>\n",
              "      <td>0</td>\n",
              "      <td>0.0</td>\n",
              "      <td>13.0</td>\n",
              "      <td>0</td>\n",
              "      <td>15</td>\n",
              "      <td>0</td>\n",
              "      <td>0.5</td>\n",
              "      <td>1.00</td>\n",
              "      <td>60.756112</td>\n",
              "      <td>50.000000</td>\n",
              "    </tr>\n",
              "  </tbody>\n",
              "</table>\n",
              "<p>77 rows × 15 columns</p>\n",
              "</div>"
            ],
            "text/plain": [
              "                                              mfr  ... calories_per_cup\n",
              "name                                               ...                 \n",
              "Mueslix Crispy Blend                      Kellogs  ...       238.805970\n",
              "Muesli Raisins; Dates; & Almonds   Ralston Purina  ...       150.000000\n",
              "Muesli Raisins; Peaches; & Pecans  Ralston Purina  ...       150.000000\n",
              "Total Raisin Bran                   General Mills  ...       140.000000\n",
              "Just Right Fruit & Nut                    Kellogs  ...       186.666667\n",
              "...                                           ...  ...              ...\n",
              "All-Bran                                  Kellogs  ...       212.121212\n",
              "100% Bran                                 Nabisco  ...       212.121212\n",
              "All-Bran with Extra Fiber                 Kellogs  ...       100.000000\n",
              "Puffed Wheat                          Quaker Oats  ...        50.000000\n",
              "Puffed Rice                           Quaker Oats  ...        50.000000\n",
              "\n",
              "[77 rows x 15 columns]"
            ]
          },
          "metadata": {
            "tags": []
          },
          "execution_count": 41
        }
      ]
    },
    {
      "cell_type": "code",
      "metadata": {
        "id": "cRHDa_o6G0OV"
      },
      "source": [
        ""
      ],
      "execution_count": null,
      "outputs": []
    }
  ]
}