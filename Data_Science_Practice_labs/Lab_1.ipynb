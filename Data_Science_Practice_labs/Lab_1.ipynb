{
  "nbformat": 4,
  "nbformat_minor": 0,
  "metadata": {
    "colab": {
      "name": "Data Science_Lab_1",
      "provenance": [],
      "collapsed_sections": []
    },
    "kernelspec": {
      "name": "python3",
      "display_name": "Python 3"
    }
  },
  "cells": [
    {
      "cell_type": "markdown",
      "metadata": {
        "id": "mdoEguBTuCNh"
      },
      "source": [
        "# **Lab Example #1**: **lists**, **loops**, and **conditional statements**\n",
        "\n",
        "In this exercise, I will explain using **lists**, **loops**, and **conditional statements**.  In the first code block below, will produce a list of 50 random numbers that range from 1 through 100.  The objective is to take this list, find the single digit random numbers, store these to a new list, and print the new list of single digit random numbers."
      ]
    },
    {
      "cell_type": "code",
      "metadata": {
        "id": "74arLjQ68Cc2",
        "colab": {
          "base_uri": "https://localhost:8080/"
        },
        "outputId": "79d62b19-22f3-4e65-e51a-0460c74ea254"
      },
      "source": [
        "from random import randint\n",
        "\n",
        "# This code produces a list of 50 random numbers in the range of 1 - 100\n",
        "random_numbers = [randint(1,100) for i in range(50)]\n",
        "print(random_numbers)"
      ],
      "execution_count": 1,
      "outputs": [
        {
          "output_type": "stream",
          "text": [
            "[32, 34, 62, 43, 4, 24, 61, 90, 57, 18, 24, 83, 14, 61, 82, 60, 91, 24, 83, 50, 35, 47, 7, 83, 77, 62, 97, 42, 57, 39, 6, 20, 97, 99, 34, 9, 37, 76, 61, 3, 21, 70, 19, 40, 75, 37, 63, 13, 59, 42]\n"
          ],
          "name": "stdout"
        }
      ]
    },
    {
      "cell_type": "markdown",
      "metadata": {
        "id": "L0S15SbF85EG"
      },
      "source": [
        "  Steps to follow:\n",
        "\n",
        "1.   Create a new list called `single_digit_random_numbers`.\n",
        "2.   Using a `for` loop, iterate through the list `random_numbers`\n",
        "3.   Add any numbers that are less than 10 to `single_digit_random_numbers` using the `append()` function\n",
        "4.   Once the loop completes, print the list `single_digit_random_numbers`\n",
        "5.   Confirm that you have the intended results."
      ]
    },
    {
      "cell_type": "code",
      "metadata": {
        "id": "nRuBbDv08bns",
        "colab": {
          "base_uri": "https://localhost:8080/"
        },
        "outputId": "e874817b-7b85-439c-ba47-99fc4bd21d25"
      },
      "source": [
        "single_digit_random_numbers = []\n",
        "\n",
        "for num in random_numbers:\n",
        "    if num < 10:\n",
        "        single_digit_random_numbers.append(num)\n",
        "\n",
        "print(single_digit_random_numbers)"
      ],
      "execution_count": 4,
      "outputs": [
        {
          "output_type": "stream",
          "text": [
            "[4, 7, 6, 9, 3]\n"
          ],
          "name": "stdout"
        }
      ]
    },
    {
      "cell_type": "markdown",
      "metadata": {
        "id": "K-SEwkVZ-qxQ"
      },
      "source": [
        "# **Lab Example #2** **Categorization**\n",
        "\n",
        "Using **dictionaries** and **loops** to recategorize numerical movie ratings into rating groups.  Creating new categorical dimensions of data is useful in data analysis as it provides more levers by which we can filter and group the data to reveal more insights. \n",
        "\n",
        "The output will be a dictionary with the **movie title** as the **key** and the **rating group** as the **value**.\n",
        "\n",
        "Below is a list of select 2019 movies and their IMDb ratings\n",
        "\n",
        "*   Joker (8.5)\n",
        "*   Avengers: End Game (8.4)\n",
        "*   Star Wars: The Rise of Skywalker (6.6)\n",
        "*   Aladdin (7.0)\n",
        "*   Toy Story 4 (7.8)\n",
        "\n",
        "Rating group definitions are below\n",
        "\n",
        "*   \\>= 8.0 are \"Great\"\n",
        "*   < 8.0 and >= 7.0 are \"Mediocre\"\n",
        "*   < 7.0 are \"Terrible\"\n",
        "\n",
        "\n",
        "steps to follow:\n",
        "\n",
        "\n",
        "1.   Create a new dictionary called `movie_ratings` and manually input the movie titles as the keys and the numerical ratings as the values.\n",
        "2.   Create an empty dictionary called `movie_rating_groups`.  This dictionary will be filled with movie titles as the keys and the text-based rating groups as the values.\n",
        "3.   Iterate through `movie_ratings` using a `for` loop.  Note that when you iterate through a dictionary, you are iterating through its keys (not values).\n",
        "4.   As you iterate through each key in `movie_ratings`, look up the numerical rating value in `movie_ratings` and translate the value into the appropriate rating group (using the definition above)\n",
        "5.   Add the movie title as the key and the rating group as the value to `movie_rating_groups`\n",
        "\n",
        "\n",
        "\n",
        "\n",
        "\n",
        "\n"
      ]
    },
    {
      "cell_type": "code",
      "metadata": {
        "id": "p7bYt_68-oau",
        "colab": {
          "base_uri": "https://localhost:8080/"
        },
        "outputId": "3f7cee5f-5118-46a7-cbaf-3f11894515c0"
      },
      "source": [
        "# create dictionary with keys and values\n",
        "movie_ratings = {\n",
        "    \"Joker\": 8.5,\n",
        "    \"Avengers: End Game\": 8.4,\n",
        "    \"Star Wars: Rise of Skywalker\": 6.6,\n",
        "    \"Aladdin\": 7.0,\n",
        "    \"Toy Story 4\": 7.8\n",
        "}\n",
        "# empty dictionary to store new categories\n",
        "movie_rating_groups = {}\n",
        "\n",
        "for movie in movie_ratings:\n",
        "    if movie_ratings[movie] >= 8.0:\n",
        "        movie_rating_groups[movie] = \"Great\"\n",
        "    elif movie_ratings[movie] >= 7.0 and movie_ratings[movie] < 8.0:\n",
        "        movie_rating_groups[movie] = \"Mediocre\"\n",
        "    elif movie_ratings[movie] < 7.0:\n",
        "        movie_rating_groups[movie] = \"Terrible\"\n",
        "    \n",
        "print(movie_rating_groups)"
      ],
      "execution_count": 5,
      "outputs": [
        {
          "output_type": "stream",
          "text": [
            "{'Joker': 'Great', 'Avengers: End Game': 'Great', 'Star Wars: Rise of Skywalker': 'Terrible', 'Aladdin': 'Mediocre', 'Toy Story 4': 'Mediocre'}\n"
          ],
          "name": "stdout"
        }
      ]
    },
    {
      "cell_type": "markdown",
      "metadata": {
        "id": "SKUALNJERbfT"
      },
      "source": [
        "# Lab Example #3 **Functions**\n",
        "\n",
        "Writting a **function** that accepts a `list` of `int` and a separate number as an `int`.  The **function** will return a new `list` of numbers that are multiples of the `int`.\n",
        "\n",
        "For example, given inputs `[1,2,3,4,5,6,7,8,9]` and `3`, the function would return `[3,6,9]`.\n",
        "\n",
        "Steps to follow:\n",
        "\n",
        "\n",
        "1.   Define a function `find_multiples` that accepts two arguments `input_list` and `x`.\n",
        "2.   In your function, create a new list `output_list` that is empty.\n",
        "3.   Loop through `input_list` and test each item to see whether it meets the condition of being a multiple of `x`.  *Hint: Use the modulo operator*\n",
        "4.   If the number is a multiple of `x`, append it to `output_list`\n",
        "5.   Once the loop is finished, return `output_list`\n",
        "6.   Test with different input values to see if the function behaves as expected\n"
      ]
    },
    {
      "cell_type": "code",
      "metadata": {
        "id": "AAWB1wjjRapI",
        "colab": {
          "base_uri": "https://localhost:8080/"
        },
        "outputId": "3b5a3544-00f9-493f-db6e-5f690eebef6a"
      },
      "source": [
        "# Write your code below\n",
        "def find_multiples(input_list, x):\n",
        "    output_list = []\n",
        "    for num in input_list:\n",
        "        if num % x == 0:\n",
        "            output_list.append(num)\n",
        "    return output_list\n",
        "\n",
        "test = [1,2,3,4,5,6,7,8,9]\n",
        "\n",
        "print(find_multiples(test, 3))"
      ],
      "execution_count": 6,
      "outputs": [
        {
          "output_type": "stream",
          "text": [
            "[3, 6, 9]\n"
          ],
          "name": "stdout"
        }
      ]
    },
    {
      "cell_type": "markdown",
      "metadata": {
        "id": "zj-wrv8T7o2V"
      },
      "source": [
        "# Lab Example #4 **Numpy**\n",
        "\n",
        "Using **Numpy** to generate some summary statistics about a set of data.  \n",
        "\n",
        "Run the first code block below to load the data you will use for this example. This data is a list of 20 grades for each of 5 students in a class."
      ]
    },
    {
      "cell_type": "code",
      "metadata": {
        "id": "KVimssRV7n_C"
      },
      "source": [
        "grades_student_1 = [75, 98, 90, 86, 95, 65, 89, 100, 91, 84, 90, 74, 70, 77, 73, 65, 97, 76, 86, 68]\n",
        "grades_student_2 = [92, 99, 97, 82, 72, 77, 86, 70, 100, 91, 70, 98, 99, 71, 85, 83, 88, 79, 94, 77]\n",
        "grades_student_3 = [89, 77, 90, 78, 82, 96, 96, 83, 79, 73, 92, 81, 98, 77, 100, 92, 86, 85, 81, 81]\n",
        "grades_student_4 = [69, 68, 90, 68, 86, 76, 82, 69, 93, 95, 85, 76, 81, 96, 75, 80, 85, 73, 68, 91]\n",
        "grades_student_5 = [78, 66, 87, 94, 66, 89, 80, 82, 80, 67, 92, 91, 82, 91, 80, 86, 72, 76, 91, 78]"
      ],
      "execution_count": 7,
      "outputs": []
    },
    {
      "cell_type": "markdown",
      "metadata": {
        "id": "njPpF_FVHgOu"
      },
      "source": [
        "The goal in this example is to answer the following questions:\n",
        "\n",
        "\n",
        "1.   What is the average (mean) grade for each of the 5 students?\n",
        "2.   What are the minimum and maximum grades for each of the 5 students?\n",
        "3.   What is the average grade for the first assignment (at index 0)?\n",
        "4.   What is the minimum and maximum grade for the 7th assignment (at index 6)?\n",
        "\n",
        "\n",
        "Steps to follow:\n",
        "\n",
        "1.   Import `numpy`\n",
        "2.   Load the five lists into a single `numpy` array called `grades`. Remember that this will be a two dimensional array, so will be a list of lists.\n",
        "3.   Use the appropriate `numpy` functions and `axis` arguments to generate the answers.\n",
        "\n",
        "Expected Answers\n",
        "\n",
        "\n",
        "1.   `[82.45, 85.5 , 85.8 , 80.3 , 81.4 ]`\n",
        "2.   Max grades: `[100, 100, 100,  96,  94]`   Min grades: `[65, 70, 73, 68, 66]`\n",
        "3.   80.6\n",
        "4.   80 (min), 96 (max)\n",
        "\n",
        "\n",
        "\n",
        "\n",
        "\n"
      ]
    },
    {
      "cell_type": "code",
      "metadata": {
        "id": "eLQIRhbaRLlE"
      },
      "source": [
        "import numpy as np\n",
        "\n",
        "grades = np.array([grades_student_1,grades_student_2,grades_student_3,grades_student_4,grades_student_5])"
      ],
      "execution_count": 9,
      "outputs": []
    },
    {
      "cell_type": "code",
      "metadata": {
        "id": "tR1MCv9r_-CP"
      },
      "source": [
        "#1 What is the average (mean) grade for each of the 5 students?\n",
        "print(np.mean(grades, axis=1))\n",
        "#2 What are the minimum and maximum grades for each of the 5 students?\n",
        "print(np.max(grades, axis=1))\n",
        "print(np.min(grades, axis=1))\n",
        "#3 What is the average grade for the first assignment (at index 0)?\n",
        "print(np.mean(grades, axis=0)[0])\n",
        "#4 What is the minimum and maximum grade for the 7th assignment (at index 6)?\n",
        "print(np.max(grades, axis=0)[6])\n",
        "print(np.min(grades, axis=0)[6])"
      ],
      "execution_count": null,
      "outputs": []
    },
    {
      "cell_type": "code",
      "metadata": {
        "id": "qulFaD3gAOX2"
      },
      "source": [
        ""
      ],
      "execution_count": null,
      "outputs": []
    }
  ]
}